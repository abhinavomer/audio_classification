{
  "nbformat": 4,
  "nbformat_minor": 0,
  "metadata": {
    "colab": {
      "provenance": [],
      "gpuType": "T4"
    },
    "kernelspec": {
      "name": "python3",
      "display_name": "Python 3"
    },
    "language_info": {
      "name": "python"
    },
    "accelerator": "GPU"
  },
  "cells": [
    {
      "cell_type": "markdown",
      "source": [
        "# **EDA**"
      ],
      "metadata": {
        "id": "WUK8j73ips68"
      }
    },
    {
      "cell_type": "code",
      "execution_count": 1,
      "metadata": {
        "colab": {
          "base_uri": "https://localhost:8080/"
        },
        "id": "okv3y87liXCo",
        "outputId": "9e1bd4f7-d428-4f8d-b8a9-411de89a347c"
      },
      "outputs": [
        {
          "output_type": "stream",
          "name": "stdout",
          "text": [
            "Collecting soundata\n",
            "  Downloading soundata-1.0.1-py3-none-any.whl (162 kB)\n",
            "\u001b[2K     \u001b[90m━━━━━━━━━━━━━━━━━━━━━━━━━━━━━━━━━━━━━━━━\u001b[0m \u001b[32m162.0/162.0 kB\u001b[0m \u001b[31m4.3 MB/s\u001b[0m eta \u001b[36m0:00:00\u001b[0m\n",
            "\u001b[?25hRequirement already satisfied: librosa>=0.10.0 in /usr/local/lib/python3.10/dist-packages (from soundata) (0.10.2.post1)\n",
            "Requirement already satisfied: numpy>=1.21.6 in /usr/local/lib/python3.10/dist-packages (from soundata) (1.25.2)\n",
            "Requirement already satisfied: pandas>=1.3.5 in /usr/local/lib/python3.10/dist-packages (from soundata) (2.0.3)\n",
            "Requirement already satisfied: tqdm>=4.65.0 in /usr/local/lib/python3.10/dist-packages (from soundata) (4.66.4)\n",
            "Collecting jams>=0.3.4 (from soundata)\n",
            "  Downloading jams-0.3.4.tar.gz (51 kB)\n",
            "\u001b[2K     \u001b[90m━━━━━━━━━━━━━━━━━━━━━━━━━━━━━━━━━━━━━━━━\u001b[0m \u001b[32m51.3/51.3 kB\u001b[0m \u001b[31m5.6 MB/s\u001b[0m eta \u001b[36m0:00:00\u001b[0m\n",
            "\u001b[?25h  Preparing metadata (setup.py) ... \u001b[?25l\u001b[?25hdone\n",
            "Collecting py7zr>=0.16.0 (from soundata)\n",
            "  Downloading py7zr-0.21.0-py3-none-any.whl (67 kB)\n",
            "\u001b[2K     \u001b[90m━━━━━━━━━━━━━━━━━━━━━━━━━━━━━━━━━━━━━━━━\u001b[0m \u001b[32m67.6/67.6 kB\u001b[0m \u001b[31m6.4 MB/s\u001b[0m eta \u001b[36m0:00:00\u001b[0m\n",
            "\u001b[?25hRequirement already satisfied: sortedcontainers>=2.0.0 in /usr/local/lib/python3.10/dist-packages (from jams>=0.3.4->soundata) (2.4.0)\n",
            "Requirement already satisfied: jsonschema>=3.0.0 in /usr/local/lib/python3.10/dist-packages (from jams>=0.3.4->soundata) (4.19.2)\n",
            "Requirement already satisfied: six in /usr/local/lib/python3.10/dist-packages (from jams>=0.3.4->soundata) (1.16.0)\n",
            "Requirement already satisfied: decorator in /usr/local/lib/python3.10/dist-packages (from jams>=0.3.4->soundata) (4.4.2)\n",
            "Collecting mir_eval>=0.5 (from jams>=0.3.4->soundata)\n",
            "  Downloading mir_eval-0.7.tar.gz (90 kB)\n",
            "\u001b[2K     \u001b[90m━━━━━━━━━━━━━━━━━━━━━━━━━━━━━━━━━━━━━━━━\u001b[0m \u001b[32m90.7/90.7 kB\u001b[0m \u001b[31m7.7 MB/s\u001b[0m eta \u001b[36m0:00:00\u001b[0m\n",
            "\u001b[?25h  Preparing metadata (setup.py) ... \u001b[?25l\u001b[?25hdone\n",
            "Requirement already satisfied: audioread>=2.1.9 in /usr/local/lib/python3.10/dist-packages (from librosa>=0.10.0->soundata) (3.0.1)\n",
            "Requirement already satisfied: scipy>=1.2.0 in /usr/local/lib/python3.10/dist-packages (from librosa>=0.10.0->soundata) (1.11.4)\n",
            "Requirement already satisfied: scikit-learn>=0.20.0 in /usr/local/lib/python3.10/dist-packages (from librosa>=0.10.0->soundata) (1.2.2)\n",
            "Requirement already satisfied: joblib>=0.14 in /usr/local/lib/python3.10/dist-packages (from librosa>=0.10.0->soundata) (1.4.2)\n",
            "Requirement already satisfied: numba>=0.51.0 in /usr/local/lib/python3.10/dist-packages (from librosa>=0.10.0->soundata) (0.58.1)\n",
            "Requirement already satisfied: soundfile>=0.12.1 in /usr/local/lib/python3.10/dist-packages (from librosa>=0.10.0->soundata) (0.12.1)\n",
            "Requirement already satisfied: pooch>=1.1 in /usr/local/lib/python3.10/dist-packages (from librosa>=0.10.0->soundata) (1.8.2)\n",
            "Requirement already satisfied: soxr>=0.3.2 in /usr/local/lib/python3.10/dist-packages (from librosa>=0.10.0->soundata) (0.3.7)\n",
            "Requirement already satisfied: typing-extensions>=4.1.1 in /usr/local/lib/python3.10/dist-packages (from librosa>=0.10.0->soundata) (4.12.2)\n",
            "Requirement already satisfied: lazy-loader>=0.1 in /usr/local/lib/python3.10/dist-packages (from librosa>=0.10.0->soundata) (0.4)\n",
            "Requirement already satisfied: msgpack>=1.0 in /usr/local/lib/python3.10/dist-packages (from librosa>=0.10.0->soundata) (1.0.8)\n",
            "Requirement already satisfied: python-dateutil>=2.8.2 in /usr/local/lib/python3.10/dist-packages (from pandas>=1.3.5->soundata) (2.8.2)\n",
            "Requirement already satisfied: pytz>=2020.1 in /usr/local/lib/python3.10/dist-packages (from pandas>=1.3.5->soundata) (2023.4)\n",
            "Requirement already satisfied: tzdata>=2022.1 in /usr/local/lib/python3.10/dist-packages (from pandas>=1.3.5->soundata) (2024.1)\n",
            "Collecting texttable (from py7zr>=0.16.0->soundata)\n",
            "  Downloading texttable-1.7.0-py2.py3-none-any.whl (10 kB)\n",
            "Collecting pycryptodomex>=3.16.0 (from py7zr>=0.16.0->soundata)\n",
            "  Downloading pycryptodomex-3.20.0-cp35-abi3-manylinux_2_17_x86_64.manylinux2014_x86_64.whl (2.1 MB)\n",
            "\u001b[2K     \u001b[90m━━━━━━━━━━━━━━━━━━━━━━━━━━━━━━━━━━━━━━━━\u001b[0m \u001b[32m2.1/2.1 MB\u001b[0m \u001b[31m14.7 MB/s\u001b[0m eta \u001b[36m0:00:00\u001b[0m\n",
            "\u001b[?25hCollecting pyzstd>=0.15.9 (from py7zr>=0.16.0->soundata)\n",
            "  Downloading pyzstd-0.16.0-cp310-cp310-manylinux_2_17_x86_64.manylinux2014_x86_64.whl (413 kB)\n",
            "\u001b[2K     \u001b[90m━━━━━━━━━━━━━━━━━━━━━━━━━━━━━━━━━━━━━━━━\u001b[0m \u001b[32m413.8/413.8 kB\u001b[0m \u001b[31m22.2 MB/s\u001b[0m eta \u001b[36m0:00:00\u001b[0m\n",
            "\u001b[?25hCollecting pyppmd<1.2.0,>=1.1.0 (from py7zr>=0.16.0->soundata)\n",
            "  Downloading pyppmd-1.1.0-cp310-cp310-manylinux_2_17_x86_64.manylinux2014_x86_64.whl (138 kB)\n",
            "\u001b[2K     \u001b[90m━━━━━━━━━━━━━━━━━━━━━━━━━━━━━━━━━━━━━━━━\u001b[0m \u001b[32m138.9/138.9 kB\u001b[0m \u001b[31m12.1 MB/s\u001b[0m eta \u001b[36m0:00:00\u001b[0m\n",
            "\u001b[?25hCollecting pybcj<1.1.0,>=1.0.0 (from py7zr>=0.16.0->soundata)\n",
            "  Downloading pybcj-1.0.2-cp310-cp310-manylinux_2_17_x86_64.manylinux2014_x86_64.whl (49 kB)\n",
            "\u001b[2K     \u001b[90m━━━━━━━━━━━━━━━━━━━━━━━━━━━━━━━━━━━━━━━━\u001b[0m \u001b[32m49.7/49.7 kB\u001b[0m \u001b[31m6.7 MB/s\u001b[0m eta \u001b[36m0:00:00\u001b[0m\n",
            "\u001b[?25hCollecting multivolumefile>=0.2.3 (from py7zr>=0.16.0->soundata)\n",
            "  Downloading multivolumefile-0.2.3-py3-none-any.whl (17 kB)\n",
            "Collecting inflate64<1.1.0,>=1.0.0 (from py7zr>=0.16.0->soundata)\n",
            "  Downloading inflate64-1.0.0-cp310-cp310-manylinux_2_17_x86_64.manylinux2014_x86_64.whl (93 kB)\n",
            "\u001b[2K     \u001b[90m━━━━━━━━━━━━━━━━━━━━━━━━━━━━━━━━━━━━━━━━\u001b[0m \u001b[32m93.1/93.1 kB\u001b[0m \u001b[31m13.1 MB/s\u001b[0m eta \u001b[36m0:00:00\u001b[0m\n",
            "\u001b[?25hCollecting brotli>=1.1.0 (from py7zr>=0.16.0->soundata)\n",
            "  Downloading Brotli-1.1.0-cp310-cp310-manylinux_2_5_x86_64.manylinux1_x86_64.manylinux_2_12_x86_64.manylinux2010_x86_64.whl (3.0 MB)\n",
            "\u001b[2K     \u001b[90m━━━━━━━━━━━━━━━━━━━━━━━━━━━━━━━━━━━━━━━━\u001b[0m \u001b[32m3.0/3.0 MB\u001b[0m \u001b[31m30.0 MB/s\u001b[0m eta \u001b[36m0:00:00\u001b[0m\n",
            "\u001b[?25hRequirement already satisfied: psutil in /usr/local/lib/python3.10/dist-packages (from py7zr>=0.16.0->soundata) (5.9.5)\n",
            "Requirement already satisfied: attrs>=22.2.0 in /usr/local/lib/python3.10/dist-packages (from jsonschema>=3.0.0->jams>=0.3.4->soundata) (23.2.0)\n",
            "Requirement already satisfied: jsonschema-specifications>=2023.03.6 in /usr/local/lib/python3.10/dist-packages (from jsonschema>=3.0.0->jams>=0.3.4->soundata) (2023.12.1)\n",
            "Requirement already satisfied: referencing>=0.28.4 in /usr/local/lib/python3.10/dist-packages (from jsonschema>=3.0.0->jams>=0.3.4->soundata) (0.35.1)\n",
            "Requirement already satisfied: rpds-py>=0.7.1 in /usr/local/lib/python3.10/dist-packages (from jsonschema>=3.0.0->jams>=0.3.4->soundata) (0.18.1)\n",
            "Requirement already satisfied: packaging in /usr/local/lib/python3.10/dist-packages (from lazy-loader>=0.1->librosa>=0.10.0->soundata) (24.1)\n",
            "Requirement already satisfied: future in /usr/local/lib/python3.10/dist-packages (from mir_eval>=0.5->jams>=0.3.4->soundata) (0.18.3)\n",
            "Requirement already satisfied: llvmlite<0.42,>=0.41.0dev0 in /usr/local/lib/python3.10/dist-packages (from numba>=0.51.0->librosa>=0.10.0->soundata) (0.41.1)\n",
            "Requirement already satisfied: platformdirs>=2.5.0 in /usr/local/lib/python3.10/dist-packages (from pooch>=1.1->librosa>=0.10.0->soundata) (4.2.2)\n",
            "Requirement already satisfied: requests>=2.19.0 in /usr/local/lib/python3.10/dist-packages (from pooch>=1.1->librosa>=0.10.0->soundata) (2.31.0)\n",
            "Requirement already satisfied: threadpoolctl>=2.0.0 in /usr/local/lib/python3.10/dist-packages (from scikit-learn>=0.20.0->librosa>=0.10.0->soundata) (3.5.0)\n",
            "Requirement already satisfied: cffi>=1.0 in /usr/local/lib/python3.10/dist-packages (from soundfile>=0.12.1->librosa>=0.10.0->soundata) (1.16.0)\n",
            "Requirement already satisfied: pycparser in /usr/local/lib/python3.10/dist-packages (from cffi>=1.0->soundfile>=0.12.1->librosa>=0.10.0->soundata) (2.22)\n",
            "Requirement already satisfied: charset-normalizer<4,>=2 in /usr/local/lib/python3.10/dist-packages (from requests>=2.19.0->pooch>=1.1->librosa>=0.10.0->soundata) (3.3.2)\n",
            "Requirement already satisfied: idna<4,>=2.5 in /usr/local/lib/python3.10/dist-packages (from requests>=2.19.0->pooch>=1.1->librosa>=0.10.0->soundata) (3.7)\n",
            "Requirement already satisfied: urllib3<3,>=1.21.1 in /usr/local/lib/python3.10/dist-packages (from requests>=2.19.0->pooch>=1.1->librosa>=0.10.0->soundata) (2.0.7)\n",
            "Requirement already satisfied: certifi>=2017.4.17 in /usr/local/lib/python3.10/dist-packages (from requests>=2.19.0->pooch>=1.1->librosa>=0.10.0->soundata) (2024.6.2)\n",
            "Building wheels for collected packages: jams, mir_eval\n",
            "  Building wheel for jams (setup.py) ... \u001b[?25l\u001b[?25hdone\n",
            "  Created wheel for jams: filename=jams-0.3.4-py3-none-any.whl size=64900 sha256=f596fe26d19ad3d46826f458105431a1f00c65f738381d3abbbc879733140e54\n",
            "  Stored in directory: /root/.cache/pip/wheels/28/9a/f7/fb386b6bc5a75a3ef198a50e98b221e94a381472332b65cf24\n",
            "  Building wheel for mir_eval (setup.py) ... \u001b[?25l\u001b[?25hdone\n",
            "  Created wheel for mir_eval: filename=mir_eval-0.7-py3-none-any.whl size=100704 sha256=c6b5f3dfd5cb851cd5869c597a8acbf2b3567a462b2208d30cbfae429c70f8bc\n",
            "  Stored in directory: /root/.cache/pip/wheels/3e/2f/0d/dda9c4c77a170e21356b6afa2f7d9bb078338634ba05d94e3f\n",
            "Successfully built jams mir_eval\n",
            "Installing collected packages: texttable, brotli, pyzstd, pyppmd, pycryptodomex, pybcj, multivolumefile, inflate64, py7zr, mir_eval, jams, soundata\n",
            "Successfully installed brotli-1.1.0 inflate64-1.0.0 jams-0.3.4 mir_eval-0.7 multivolumefile-0.2.3 py7zr-0.21.0 pybcj-1.0.2 pycryptodomex-3.20.0 pyppmd-1.1.0 pyzstd-0.16.0 soundata-1.0.1 texttable-1.7.0\n"
          ]
        }
      ],
      "source": [
        "! pip install soundata"
      ]
    },
    {
      "cell_type": "code",
      "source": [
        "import soundata\n",
        "\n",
        "dataset = soundata.initialize('urbansound8k')\n",
        "dataset.download()  # download the dataset\n",
        "dataset.validate()  # validate that all the expected files are there\n",
        "\n",
        "example_clip = dataset.choice_clip()  # choose a random example clip\n",
        "print(example_clip)  # see the available data"
      ],
      "metadata": {
        "colab": {
          "base_uri": "https://localhost:8080/"
        },
        "id": "sHBmM7CCia-w",
        "outputId": "3a4a5098-b527-4825-98d3-388762a8df35"
      },
      "execution_count": 2,
      "outputs": [
        {
          "output_type": "stream",
          "name": "stderr",
          "text": [
            "5.61GB [05:09, 19.5MB/s]                            \n",
            "1.15MB [00:01, 789kB/s]                             \n",
            "100%|██████████| 1/1 [00:00<00:00, 705.99it/s]\n",
            "100%|██████████| 8732/8732 [00:44<00:00, 195.78it/s]"
          ]
        },
        {
          "output_type": "stream",
          "name": "stdout",
          "text": [
            "Clip(\n",
            "  audio_path=\"/root/sound_datasets/urbansound8k/audio/fold2/203929-7-9-19.wav\",\n",
            "  clip_id=\"203929-7-9-19\",\n",
            "  audio: The clip's audio\n",
            "            * np.ndarray - audio signal\n",
            "            * float - sample rate,\n",
            "  class_id: The clip's class id.\n",
            "            * int - integer representation of the class label (0-9). See Dataset Info in the documentation for mapping,\n",
            "  class_label: The clip's class label.\n",
            "            * str - string class name: air_conditioner, car_horn, children_playing, dog_bark, drilling, engine_idling, gun_shot, jackhammer, siren, street_music,\n",
            "  fold: The clip's fold.\n",
            "            * int - fold number (1-10) to which this clip is allocated. Use these folds for cross validation,\n",
            "  freesound_end_time: The clip's end time in Freesound.\n",
            "            * float - end time in seconds of the clip in the original freesound recording,\n",
            "  freesound_id: The clip's Freesound ID.\n",
            "            * str - ID of the freesound.org recording from which this clip was taken,\n",
            "  freesound_start_time: The clip's start time in Freesound.\n",
            "            * float - start time in seconds of the clip in the original freesound recording,\n",
            "  salience: The clip's salience.\n",
            "            * int - annotator estimate of class sailence in the clip: 1 = foreground, 2 = background,\n",
            "  slice_file_name: The clip's slice filename.\n",
            "            * str - The name of the audio file. The name takes the following format: [fsID]-[classID]-[occurrenceID]-[sliceID].wav,\n",
            "  tags: The clip's tags.\n",
            "            * annotations.Tags - tag (label) of the clip + confidence. In UrbanSound8K every clip has one tag,\n",
            ")\n"
          ]
        },
        {
          "output_type": "stream",
          "name": "stderr",
          "text": [
            "\n"
          ]
        }
      ]
    },
    {
      "cell_type": "code",
      "source": [
        "! pip install librosa"
      ],
      "metadata": {
        "colab": {
          "base_uri": "https://localhost:8080/"
        },
        "id": "3hXILuq5imX6",
        "outputId": "5d1adcd0-9ee3-4d88-a31c-1e5becf88698"
      },
      "execution_count": 3,
      "outputs": [
        {
          "output_type": "stream",
          "name": "stdout",
          "text": [
            "Requirement already satisfied: librosa in /usr/local/lib/python3.10/dist-packages (0.10.2.post1)\n",
            "Requirement already satisfied: audioread>=2.1.9 in /usr/local/lib/python3.10/dist-packages (from librosa) (3.0.1)\n",
            "Requirement already satisfied: numpy!=1.22.0,!=1.22.1,!=1.22.2,>=1.20.3 in /usr/local/lib/python3.10/dist-packages (from librosa) (1.25.2)\n",
            "Requirement already satisfied: scipy>=1.2.0 in /usr/local/lib/python3.10/dist-packages (from librosa) (1.11.4)\n",
            "Requirement already satisfied: scikit-learn>=0.20.0 in /usr/local/lib/python3.10/dist-packages (from librosa) (1.2.2)\n",
            "Requirement already satisfied: joblib>=0.14 in /usr/local/lib/python3.10/dist-packages (from librosa) (1.4.2)\n",
            "Requirement already satisfied: decorator>=4.3.0 in /usr/local/lib/python3.10/dist-packages (from librosa) (4.4.2)\n",
            "Requirement already satisfied: numba>=0.51.0 in /usr/local/lib/python3.10/dist-packages (from librosa) (0.58.1)\n",
            "Requirement already satisfied: soundfile>=0.12.1 in /usr/local/lib/python3.10/dist-packages (from librosa) (0.12.1)\n",
            "Requirement already satisfied: pooch>=1.1 in /usr/local/lib/python3.10/dist-packages (from librosa) (1.8.2)\n",
            "Requirement already satisfied: soxr>=0.3.2 in /usr/local/lib/python3.10/dist-packages (from librosa) (0.3.7)\n",
            "Requirement already satisfied: typing-extensions>=4.1.1 in /usr/local/lib/python3.10/dist-packages (from librosa) (4.12.2)\n",
            "Requirement already satisfied: lazy-loader>=0.1 in /usr/local/lib/python3.10/dist-packages (from librosa) (0.4)\n",
            "Requirement already satisfied: msgpack>=1.0 in /usr/local/lib/python3.10/dist-packages (from librosa) (1.0.8)\n",
            "Requirement already satisfied: packaging in /usr/local/lib/python3.10/dist-packages (from lazy-loader>=0.1->librosa) (24.1)\n",
            "Requirement already satisfied: llvmlite<0.42,>=0.41.0dev0 in /usr/local/lib/python3.10/dist-packages (from numba>=0.51.0->librosa) (0.41.1)\n",
            "Requirement already satisfied: platformdirs>=2.5.0 in /usr/local/lib/python3.10/dist-packages (from pooch>=1.1->librosa) (4.2.2)\n",
            "Requirement already satisfied: requests>=2.19.0 in /usr/local/lib/python3.10/dist-packages (from pooch>=1.1->librosa) (2.31.0)\n",
            "Requirement already satisfied: threadpoolctl>=2.0.0 in /usr/local/lib/python3.10/dist-packages (from scikit-learn>=0.20.0->librosa) (3.5.0)\n",
            "Requirement already satisfied: cffi>=1.0 in /usr/local/lib/python3.10/dist-packages (from soundfile>=0.12.1->librosa) (1.16.0)\n",
            "Requirement already satisfied: pycparser in /usr/local/lib/python3.10/dist-packages (from cffi>=1.0->soundfile>=0.12.1->librosa) (2.22)\n",
            "Requirement already satisfied: charset-normalizer<4,>=2 in /usr/local/lib/python3.10/dist-packages (from requests>=2.19.0->pooch>=1.1->librosa) (3.3.2)\n",
            "Requirement already satisfied: idna<4,>=2.5 in /usr/local/lib/python3.10/dist-packages (from requests>=2.19.0->pooch>=1.1->librosa) (3.7)\n",
            "Requirement already satisfied: urllib3<3,>=1.21.1 in /usr/local/lib/python3.10/dist-packages (from requests>=2.19.0->pooch>=1.1->librosa) (2.0.7)\n",
            "Requirement already satisfied: certifi>=2017.4.17 in /usr/local/lib/python3.10/dist-packages (from requests>=2.19.0->pooch>=1.1->librosa) (2024.6.2)\n"
          ]
        }
      ]
    },
    {
      "cell_type": "code",
      "source": [
        "import matplotlib.pyplot as plt\n",
        "%matplotlib inline"
      ],
      "metadata": {
        "id": "6-PcfPPwkh3-"
      },
      "execution_count": 10,
      "outputs": []
    },
    {
      "cell_type": "code",
      "source": [
        "import IPython.display as ipd\n",
        "import librosa\n",
        "import librosa.display"
      ],
      "metadata": {
        "id": "SuwU1xTOlu_C"
      },
      "execution_count": 1,
      "outputs": []
    },
    {
      "cell_type": "code",
      "source": [
        "# dog sound\n",
        "filename='/root/sound_datasets/urbansound8k/audio/fold1/101415-3-0-2.wav'\n",
        "plt.figure(figsize=(14,5))\n",
        "data,sample_rate=librosa.load(filename)\n",
        "librosa.display.waveshow(data,sr=sample_rate)\n",
        "ipd.Audio(filename)"
      ],
      "metadata": {
        "colab": {
          "base_uri": "https://localhost:8080/",
          "height": 219
        },
        "id": "I0-JzxNIlBip",
        "outputId": "0ef70c05-910b-4fef-f735-eeb8e7788cac"
      },
      "execution_count": 3,
      "outputs": [
        {
          "output_type": "error",
          "ename": "NameError",
          "evalue": "name 'plt' is not defined",
          "traceback": [
            "\u001b[0;31m---------------------------------------------------------------------------\u001b[0m",
            "\u001b[0;31mNameError\u001b[0m                                 Traceback (most recent call last)",
            "\u001b[0;32m<ipython-input-3-5a67a40ef991>\u001b[0m in \u001b[0;36m<cell line: 3>\u001b[0;34m()\u001b[0m\n\u001b[1;32m      1\u001b[0m \u001b[0;31m# dog sound\u001b[0m\u001b[0;34m\u001b[0m\u001b[0;34m\u001b[0m\u001b[0m\n\u001b[1;32m      2\u001b[0m \u001b[0mfilename\u001b[0m\u001b[0;34m=\u001b[0m\u001b[0;34m'/root/sound_datasets/urbansound8k/audio/fold1/101415-3-0-2.wav'\u001b[0m\u001b[0;34m\u001b[0m\u001b[0;34m\u001b[0m\u001b[0m\n\u001b[0;32m----> 3\u001b[0;31m \u001b[0mplt\u001b[0m\u001b[0;34m.\u001b[0m\u001b[0mfigure\u001b[0m\u001b[0;34m(\u001b[0m\u001b[0mfigsize\u001b[0m\u001b[0;34m=\u001b[0m\u001b[0;34m(\u001b[0m\u001b[0;36m14\u001b[0m\u001b[0;34m,\u001b[0m\u001b[0;36m5\u001b[0m\u001b[0;34m)\u001b[0m\u001b[0;34m)\u001b[0m\u001b[0;34m\u001b[0m\u001b[0;34m\u001b[0m\u001b[0m\n\u001b[0m\u001b[1;32m      4\u001b[0m \u001b[0mdata\u001b[0m\u001b[0;34m,\u001b[0m\u001b[0msample_rate\u001b[0m\u001b[0;34m=\u001b[0m\u001b[0mlibrosa\u001b[0m\u001b[0;34m.\u001b[0m\u001b[0mload\u001b[0m\u001b[0;34m(\u001b[0m\u001b[0mfilename\u001b[0m\u001b[0;34m)\u001b[0m\u001b[0;34m\u001b[0m\u001b[0;34m\u001b[0m\u001b[0m\n\u001b[1;32m      5\u001b[0m \u001b[0mlibrosa\u001b[0m\u001b[0;34m.\u001b[0m\u001b[0mdisplay\u001b[0m\u001b[0;34m.\u001b[0m\u001b[0mwaveshow\u001b[0m\u001b[0;34m(\u001b[0m\u001b[0mdata\u001b[0m\u001b[0;34m,\u001b[0m\u001b[0msr\u001b[0m\u001b[0;34m=\u001b[0m\u001b[0msample_rate\u001b[0m\u001b[0;34m)\u001b[0m\u001b[0;34m\u001b[0m\u001b[0;34m\u001b[0m\u001b[0m\n",
            "\u001b[0;31mNameError\u001b[0m: name 'plt' is not defined"
          ]
        }
      ]
    },
    {
      "cell_type": "code",
      "source": [
        "sample_rate"
      ],
      "metadata": {
        "colab": {
          "base_uri": "https://localhost:8080/"
        },
        "id": "XJTtlt6Mlrbk",
        "outputId": "4aaaa16e-f7d0-4439-aa2e-1c847fdb6eab"
      },
      "execution_count": 7,
      "outputs": [
        {
          "output_type": "execute_result",
          "data": {
            "text/plain": [
              "22050"
            ]
          },
          "metadata": {},
          "execution_count": 7
        }
      ]
    },
    {
      "cell_type": "code",
      "source": [
        "!pip install scipy --upgrade\n",
        "from scipy.io import wavfile as wav\n",
        "wsr, aud = wav.read(filename)"
      ],
      "metadata": {
        "colab": {
          "base_uri": "https://localhost:8080/"
        },
        "id": "peqYt3V5nDjJ",
        "outputId": "db3b13d8-fe9c-48dd-e671-54b7e54b96d7"
      },
      "execution_count": 4,
      "outputs": [
        {
          "output_type": "stream",
          "name": "stdout",
          "text": [
            "Requirement already satisfied: scipy in /usr/local/lib/python3.10/dist-packages (1.13.1)\n",
            "Requirement already satisfied: numpy<2.3,>=1.22.4 in /usr/local/lib/python3.10/dist-packages (from scipy) (1.25.2)\n"
          ]
        }
      ]
    },
    {
      "cell_type": "code",
      "source": [
        "wsr"
      ],
      "metadata": {
        "colab": {
          "base_uri": "https://localhost:8080/"
        },
        "id": "ZBptCcddo6ZW",
        "outputId": "51d46567-b9c1-44ac-f9f6-083b9b4e60b6"
      },
      "execution_count": 9,
      "outputs": [
        {
          "output_type": "execute_result",
          "data": {
            "text/plain": [
              "48000"
            ]
          },
          "metadata": {},
          "execution_count": 9
        }
      ]
    },
    {
      "cell_type": "code",
      "source": [
        "aud"
      ],
      "metadata": {
        "colab": {
          "base_uri": "https://localhost:8080/"
        },
        "id": "6Vt4TOwtpQLT",
        "outputId": "1c2054d8-21b1-47ee-f963-359024fd48ab"
      },
      "execution_count": 10,
      "outputs": [
        {
          "output_type": "execute_result",
          "data": {
            "text/plain": [
              "array([   -5,    -5,    -6, ..., -1576, -1566, -1557], dtype=int16)"
            ]
          },
          "metadata": {},
          "execution_count": 10
        }
      ]
    },
    {
      "cell_type": "code",
      "source": [
        "data"
      ],
      "metadata": {
        "colab": {
          "base_uri": "https://localhost:8080/"
        },
        "id": "o3ubFTwMpeeJ",
        "outputId": "cf02dd0d-9084-44fe-fa18-7fbe8e05a97f"
      },
      "execution_count": 11,
      "outputs": [
        {
          "output_type": "execute_result",
          "data": {
            "text/plain": [
              "array([-0.00011485, -0.00017083, -0.00017736, ..., -0.04609928,\n",
              "       -0.04609471, -0.05099387], dtype=float32)"
            ]
          },
          "metadata": {},
          "execution_count": 11
        }
      ]
    },
    {
      "cell_type": "code",
      "source": [
        "import pandas as pd\n",
        "csv='/root/sound_datasets/urbansound8k/metadata/UrbanSound8K.csv'\n",
        "metadata=pd.read_csv(csv)"
      ],
      "metadata": {
        "id": "38qU3XAqp87x"
      },
      "execution_count": 5,
      "outputs": []
    },
    {
      "cell_type": "code",
      "source": [
        "metadata.head()"
      ],
      "metadata": {
        "colab": {
          "base_uri": "https://localhost:8080/",
          "height": 206
        },
        "id": "8RlvXlbZqV_K",
        "outputId": "a738d4e3-fb36-425f-b538-37c897d2881d"
      },
      "execution_count": 13,
      "outputs": [
        {
          "output_type": "execute_result",
          "data": {
            "text/plain": [
              "      slice_file_name    fsID  start        end  salience  fold  classID  \\\n",
              "0    100032-3-0-0.wav  100032    0.0   0.317551         1     5        3   \n",
              "1  100263-2-0-117.wav  100263   58.5  62.500000         1     5        2   \n",
              "2  100263-2-0-121.wav  100263   60.5  64.500000         1     5        2   \n",
              "3  100263-2-0-126.wav  100263   63.0  67.000000         1     5        2   \n",
              "4  100263-2-0-137.wav  100263   68.5  72.500000         1     5        2   \n",
              "\n",
              "              class  \n",
              "0          dog_bark  \n",
              "1  children_playing  \n",
              "2  children_playing  \n",
              "3  children_playing  \n",
              "4  children_playing  "
            ],
            "text/html": [
              "\n",
              "  <div id=\"df-22c47b3c-687f-4737-9750-f9daaddd3628\" class=\"colab-df-container\">\n",
              "    <div>\n",
              "<style scoped>\n",
              "    .dataframe tbody tr th:only-of-type {\n",
              "        vertical-align: middle;\n",
              "    }\n",
              "\n",
              "    .dataframe tbody tr th {\n",
              "        vertical-align: top;\n",
              "    }\n",
              "\n",
              "    .dataframe thead th {\n",
              "        text-align: right;\n",
              "    }\n",
              "</style>\n",
              "<table border=\"1\" class=\"dataframe\">\n",
              "  <thead>\n",
              "    <tr style=\"text-align: right;\">\n",
              "      <th></th>\n",
              "      <th>slice_file_name</th>\n",
              "      <th>fsID</th>\n",
              "      <th>start</th>\n",
              "      <th>end</th>\n",
              "      <th>salience</th>\n",
              "      <th>fold</th>\n",
              "      <th>classID</th>\n",
              "      <th>class</th>\n",
              "    </tr>\n",
              "  </thead>\n",
              "  <tbody>\n",
              "    <tr>\n",
              "      <th>0</th>\n",
              "      <td>100032-3-0-0.wav</td>\n",
              "      <td>100032</td>\n",
              "      <td>0.0</td>\n",
              "      <td>0.317551</td>\n",
              "      <td>1</td>\n",
              "      <td>5</td>\n",
              "      <td>3</td>\n",
              "      <td>dog_bark</td>\n",
              "    </tr>\n",
              "    <tr>\n",
              "      <th>1</th>\n",
              "      <td>100263-2-0-117.wav</td>\n",
              "      <td>100263</td>\n",
              "      <td>58.5</td>\n",
              "      <td>62.500000</td>\n",
              "      <td>1</td>\n",
              "      <td>5</td>\n",
              "      <td>2</td>\n",
              "      <td>children_playing</td>\n",
              "    </tr>\n",
              "    <tr>\n",
              "      <th>2</th>\n",
              "      <td>100263-2-0-121.wav</td>\n",
              "      <td>100263</td>\n",
              "      <td>60.5</td>\n",
              "      <td>64.500000</td>\n",
              "      <td>1</td>\n",
              "      <td>5</td>\n",
              "      <td>2</td>\n",
              "      <td>children_playing</td>\n",
              "    </tr>\n",
              "    <tr>\n",
              "      <th>3</th>\n",
              "      <td>100263-2-0-126.wav</td>\n",
              "      <td>100263</td>\n",
              "      <td>63.0</td>\n",
              "      <td>67.000000</td>\n",
              "      <td>1</td>\n",
              "      <td>5</td>\n",
              "      <td>2</td>\n",
              "      <td>children_playing</td>\n",
              "    </tr>\n",
              "    <tr>\n",
              "      <th>4</th>\n",
              "      <td>100263-2-0-137.wav</td>\n",
              "      <td>100263</td>\n",
              "      <td>68.5</td>\n",
              "      <td>72.500000</td>\n",
              "      <td>1</td>\n",
              "      <td>5</td>\n",
              "      <td>2</td>\n",
              "      <td>children_playing</td>\n",
              "    </tr>\n",
              "  </tbody>\n",
              "</table>\n",
              "</div>\n",
              "    <div class=\"colab-df-buttons\">\n",
              "\n",
              "  <div class=\"colab-df-container\">\n",
              "    <button class=\"colab-df-convert\" onclick=\"convertToInteractive('df-22c47b3c-687f-4737-9750-f9daaddd3628')\"\n",
              "            title=\"Convert this dataframe to an interactive table.\"\n",
              "            style=\"display:none;\">\n",
              "\n",
              "  <svg xmlns=\"http://www.w3.org/2000/svg\" height=\"24px\" viewBox=\"0 -960 960 960\">\n",
              "    <path d=\"M120-120v-720h720v720H120Zm60-500h600v-160H180v160Zm220 220h160v-160H400v160Zm0 220h160v-160H400v160ZM180-400h160v-160H180v160Zm440 0h160v-160H620v160ZM180-180h160v-160H180v160Zm440 0h160v-160H620v160Z\"/>\n",
              "  </svg>\n",
              "    </button>\n",
              "\n",
              "  <style>\n",
              "    .colab-df-container {\n",
              "      display:flex;\n",
              "      gap: 12px;\n",
              "    }\n",
              "\n",
              "    .colab-df-convert {\n",
              "      background-color: #E8F0FE;\n",
              "      border: none;\n",
              "      border-radius: 50%;\n",
              "      cursor: pointer;\n",
              "      display: none;\n",
              "      fill: #1967D2;\n",
              "      height: 32px;\n",
              "      padding: 0 0 0 0;\n",
              "      width: 32px;\n",
              "    }\n",
              "\n",
              "    .colab-df-convert:hover {\n",
              "      background-color: #E2EBFA;\n",
              "      box-shadow: 0px 1px 2px rgba(60, 64, 67, 0.3), 0px 1px 3px 1px rgba(60, 64, 67, 0.15);\n",
              "      fill: #174EA6;\n",
              "    }\n",
              "\n",
              "    .colab-df-buttons div {\n",
              "      margin-bottom: 4px;\n",
              "    }\n",
              "\n",
              "    [theme=dark] .colab-df-convert {\n",
              "      background-color: #3B4455;\n",
              "      fill: #D2E3FC;\n",
              "    }\n",
              "\n",
              "    [theme=dark] .colab-df-convert:hover {\n",
              "      background-color: #434B5C;\n",
              "      box-shadow: 0px 1px 3px 1px rgba(0, 0, 0, 0.15);\n",
              "      filter: drop-shadow(0px 1px 2px rgba(0, 0, 0, 0.3));\n",
              "      fill: #FFFFFF;\n",
              "    }\n",
              "  </style>\n",
              "\n",
              "    <script>\n",
              "      const buttonEl =\n",
              "        document.querySelector('#df-22c47b3c-687f-4737-9750-f9daaddd3628 button.colab-df-convert');\n",
              "      buttonEl.style.display =\n",
              "        google.colab.kernel.accessAllowed ? 'block' : 'none';\n",
              "\n",
              "      async function convertToInteractive(key) {\n",
              "        const element = document.querySelector('#df-22c47b3c-687f-4737-9750-f9daaddd3628');\n",
              "        const dataTable =\n",
              "          await google.colab.kernel.invokeFunction('convertToInteractive',\n",
              "                                                    [key], {});\n",
              "        if (!dataTable) return;\n",
              "\n",
              "        const docLinkHtml = 'Like what you see? Visit the ' +\n",
              "          '<a target=\"_blank\" href=https://colab.research.google.com/notebooks/data_table.ipynb>data table notebook</a>'\n",
              "          + ' to learn more about interactive tables.';\n",
              "        element.innerHTML = '';\n",
              "        dataTable['output_type'] = 'display_data';\n",
              "        await google.colab.output.renderOutput(dataTable, element);\n",
              "        const docLink = document.createElement('div');\n",
              "        docLink.innerHTML = docLinkHtml;\n",
              "        element.appendChild(docLink);\n",
              "      }\n",
              "    </script>\n",
              "  </div>\n",
              "\n",
              "\n",
              "<div id=\"df-1bd2f8b3-42a9-4a9e-8f78-f3af4061d4a5\">\n",
              "  <button class=\"colab-df-quickchart\" onclick=\"quickchart('df-1bd2f8b3-42a9-4a9e-8f78-f3af4061d4a5')\"\n",
              "            title=\"Suggest charts\"\n",
              "            style=\"display:none;\">\n",
              "\n",
              "<svg xmlns=\"http://www.w3.org/2000/svg\" height=\"24px\"viewBox=\"0 0 24 24\"\n",
              "     width=\"24px\">\n",
              "    <g>\n",
              "        <path d=\"M19 3H5c-1.1 0-2 .9-2 2v14c0 1.1.9 2 2 2h14c1.1 0 2-.9 2-2V5c0-1.1-.9-2-2-2zM9 17H7v-7h2v7zm4 0h-2V7h2v10zm4 0h-2v-4h2v4z\"/>\n",
              "    </g>\n",
              "</svg>\n",
              "  </button>\n",
              "\n",
              "<style>\n",
              "  .colab-df-quickchart {\n",
              "      --bg-color: #E8F0FE;\n",
              "      --fill-color: #1967D2;\n",
              "      --hover-bg-color: #E2EBFA;\n",
              "      --hover-fill-color: #174EA6;\n",
              "      --disabled-fill-color: #AAA;\n",
              "      --disabled-bg-color: #DDD;\n",
              "  }\n",
              "\n",
              "  [theme=dark] .colab-df-quickchart {\n",
              "      --bg-color: #3B4455;\n",
              "      --fill-color: #D2E3FC;\n",
              "      --hover-bg-color: #434B5C;\n",
              "      --hover-fill-color: #FFFFFF;\n",
              "      --disabled-bg-color: #3B4455;\n",
              "      --disabled-fill-color: #666;\n",
              "  }\n",
              "\n",
              "  .colab-df-quickchart {\n",
              "    background-color: var(--bg-color);\n",
              "    border: none;\n",
              "    border-radius: 50%;\n",
              "    cursor: pointer;\n",
              "    display: none;\n",
              "    fill: var(--fill-color);\n",
              "    height: 32px;\n",
              "    padding: 0;\n",
              "    width: 32px;\n",
              "  }\n",
              "\n",
              "  .colab-df-quickchart:hover {\n",
              "    background-color: var(--hover-bg-color);\n",
              "    box-shadow: 0 1px 2px rgba(60, 64, 67, 0.3), 0 1px 3px 1px rgba(60, 64, 67, 0.15);\n",
              "    fill: var(--button-hover-fill-color);\n",
              "  }\n",
              "\n",
              "  .colab-df-quickchart-complete:disabled,\n",
              "  .colab-df-quickchart-complete:disabled:hover {\n",
              "    background-color: var(--disabled-bg-color);\n",
              "    fill: var(--disabled-fill-color);\n",
              "    box-shadow: none;\n",
              "  }\n",
              "\n",
              "  .colab-df-spinner {\n",
              "    border: 2px solid var(--fill-color);\n",
              "    border-color: transparent;\n",
              "    border-bottom-color: var(--fill-color);\n",
              "    animation:\n",
              "      spin 1s steps(1) infinite;\n",
              "  }\n",
              "\n",
              "  @keyframes spin {\n",
              "    0% {\n",
              "      border-color: transparent;\n",
              "      border-bottom-color: var(--fill-color);\n",
              "      border-left-color: var(--fill-color);\n",
              "    }\n",
              "    20% {\n",
              "      border-color: transparent;\n",
              "      border-left-color: var(--fill-color);\n",
              "      border-top-color: var(--fill-color);\n",
              "    }\n",
              "    30% {\n",
              "      border-color: transparent;\n",
              "      border-left-color: var(--fill-color);\n",
              "      border-top-color: var(--fill-color);\n",
              "      border-right-color: var(--fill-color);\n",
              "    }\n",
              "    40% {\n",
              "      border-color: transparent;\n",
              "      border-right-color: var(--fill-color);\n",
              "      border-top-color: var(--fill-color);\n",
              "    }\n",
              "    60% {\n",
              "      border-color: transparent;\n",
              "      border-right-color: var(--fill-color);\n",
              "    }\n",
              "    80% {\n",
              "      border-color: transparent;\n",
              "      border-right-color: var(--fill-color);\n",
              "      border-bottom-color: var(--fill-color);\n",
              "    }\n",
              "    90% {\n",
              "      border-color: transparent;\n",
              "      border-bottom-color: var(--fill-color);\n",
              "    }\n",
              "  }\n",
              "</style>\n",
              "\n",
              "  <script>\n",
              "    async function quickchart(key) {\n",
              "      const quickchartButtonEl =\n",
              "        document.querySelector('#' + key + ' button');\n",
              "      quickchartButtonEl.disabled = true;  // To prevent multiple clicks.\n",
              "      quickchartButtonEl.classList.add('colab-df-spinner');\n",
              "      try {\n",
              "        const charts = await google.colab.kernel.invokeFunction(\n",
              "            'suggestCharts', [key], {});\n",
              "      } catch (error) {\n",
              "        console.error('Error during call to suggestCharts:', error);\n",
              "      }\n",
              "      quickchartButtonEl.classList.remove('colab-df-spinner');\n",
              "      quickchartButtonEl.classList.add('colab-df-quickchart-complete');\n",
              "    }\n",
              "    (() => {\n",
              "      let quickchartButtonEl =\n",
              "        document.querySelector('#df-1bd2f8b3-42a9-4a9e-8f78-f3af4061d4a5 button');\n",
              "      quickchartButtonEl.style.display =\n",
              "        google.colab.kernel.accessAllowed ? 'block' : 'none';\n",
              "    })();\n",
              "  </script>\n",
              "</div>\n",
              "\n",
              "    </div>\n",
              "  </div>\n"
            ],
            "application/vnd.google.colaboratory.intrinsic+json": {
              "type": "dataframe",
              "variable_name": "metadata",
              "summary": "{\n  \"name\": \"metadata\",\n  \"rows\": 8732,\n  \"fields\": [\n    {\n      \"column\": \"slice_file_name\",\n      \"properties\": {\n        \"dtype\": \"string\",\n        \"num_unique_values\": 8732,\n        \"samples\": [\n          \"54898-8-0-2.wav\",\n          \"172338-9-0-7.wav\",\n          \"95562-4-3-0.wav\"\n        ],\n        \"semantic_type\": \"\",\n        \"description\": \"\"\n      }\n    },\n    {\n      \"column\": \"fsID\",\n      \"properties\": {\n        \"dtype\": \"number\",\n        \"std\": 57991,\n        \"min\": 344,\n        \"max\": 209992,\n        \"num_unique_values\": 1297,\n        \"samples\": [\n          180257,\n          157940,\n          20015\n        ],\n        \"semantic_type\": \"\",\n        \"description\": \"\"\n      }\n    },\n    {\n      \"column\": \"start\",\n      \"properties\": {\n        \"dtype\": \"number\",\n        \"std\": 74.29212630755421,\n        \"min\": 0.0,\n        \"max\": 600.125356,\n        \"num_unique_values\": 4878,\n        \"samples\": [\n          10.038318,\n          5.711988,\n          4.634753\n        ],\n        \"semantic_type\": \"\",\n        \"description\": \"\"\n      }\n    },\n    {\n      \"column\": \"end\",\n      \"properties\": {\n        \"dtype\": \"number\",\n        \"std\": 74.36966935075833,\n        \"min\": 0.105962,\n        \"max\": 604.125356,\n        \"num_unique_values\": 5020,\n        \"samples\": [\n          13.168347,\n          2.653802,\n          10.286916\n        ],\n        \"semantic_type\": \"\",\n        \"description\": \"\"\n      }\n    },\n    {\n      \"column\": \"salience\",\n      \"properties\": {\n        \"dtype\": \"number\",\n        \"std\": 0,\n        \"min\": 1,\n        \"max\": 2,\n        \"num_unique_values\": 2,\n        \"samples\": [\n          2,\n          1\n        ],\n        \"semantic_type\": \"\",\n        \"description\": \"\"\n      }\n    },\n    {\n      \"column\": \"fold\",\n      \"properties\": {\n        \"dtype\": \"number\",\n        \"std\": 2,\n        \"min\": 1,\n        \"max\": 10,\n        \"num_unique_values\": 10,\n        \"samples\": [\n          3,\n          10\n        ],\n        \"semantic_type\": \"\",\n        \"description\": \"\"\n      }\n    },\n    {\n      \"column\": \"classID\",\n      \"properties\": {\n        \"dtype\": \"number\",\n        \"std\": 2,\n        \"min\": 0,\n        \"max\": 9,\n        \"num_unique_values\": 10,\n        \"samples\": [\n          7,\n          2\n        ],\n        \"semantic_type\": \"\",\n        \"description\": \"\"\n      }\n    },\n    {\n      \"column\": \"class\",\n      \"properties\": {\n        \"dtype\": \"category\",\n        \"num_unique_values\": 10,\n        \"samples\": [\n          \"jackhammer\",\n          \"children_playing\"\n        ],\n        \"semantic_type\": \"\",\n        \"description\": \"\"\n      }\n    }\n  ]\n}"
            }
          },
          "metadata": {},
          "execution_count": 13
        }
      ]
    },
    {
      "cell_type": "code",
      "source": [
        "# check whether dataset is imbalanced or not\n",
        "metadata['class'].value_counts()"
      ],
      "metadata": {
        "colab": {
          "base_uri": "https://localhost:8080/"
        },
        "id": "DD-y0J8mqYsx",
        "outputId": "e11cc5a6-8ae9-4ad4-a71f-c97dee3b759e"
      },
      "execution_count": 14,
      "outputs": [
        {
          "output_type": "execute_result",
          "data": {
            "text/plain": [
              "class\n",
              "dog_bark            1000\n",
              "children_playing    1000\n",
              "air_conditioner     1000\n",
              "street_music        1000\n",
              "jackhammer          1000\n",
              "engine_idling       1000\n",
              "drilling            1000\n",
              "siren                929\n",
              "car_horn             429\n",
              "gun_shot             374\n",
              "Name: count, dtype: int64"
            ]
          },
          "metadata": {},
          "execution_count": 14
        }
      ]
    },
    {
      "cell_type": "markdown",
      "source": [
        "# **Data Preprocessing**"
      ],
      "metadata": {
        "id": "qNJjb00arCuk"
      }
    },
    {
      "cell_type": "code",
      "source": [
        "aud_fil_path='/root/sound_datasets/urbansound8k/audio/fold5/100263-2-0-117.wav'"
      ],
      "metadata": {
        "id": "mJYy6nbAqxcQ"
      },
      "execution_count": 6,
      "outputs": []
    },
    {
      "cell_type": "code",
      "source": [
        "import librosa\n",
        "import pandas as pd\n",
        "librosa_dat,librosa_sr=librosa.load(aud_fil_path)\n",
        "print(librosa_dat)"
      ],
      "metadata": {
        "colab": {
          "base_uri": "https://localhost:8080/"
        },
        "id": "ZakDBkf6roea",
        "outputId": "16fe7a85-5b21-48e6-8283-6e90754e0015"
      },
      "execution_count": 7,
      "outputs": [
        {
          "output_type": "stream",
          "name": "stdout",
          "text": [
            "[ 0.00274057  0.00363865  0.00230643 ... -0.00752703 -0.00462696\n",
            "  0.00097316]\n"
          ]
        }
      ]
    },
    {
      "cell_type": "code",
      "source": [],
      "metadata": {
        "id": "3bvxoCB70af2"
      },
      "execution_count": 7,
      "outputs": []
    },
    {
      "cell_type": "code",
      "source": [
        "plt.figure(figsize=(14,5))\n",
        "plt.plot(librosa_dat)"
      ],
      "metadata": {
        "colab": {
          "base_uri": "https://localhost:8080/",
          "height": 447
        },
        "id": "rHHPiwter0Gi",
        "outputId": "11db2b12-bcd1-4c55-a564-26d5654bb4cf"
      },
      "execution_count": 11,
      "outputs": [
        {
          "output_type": "execute_result",
          "data": {
            "text/plain": [
              "[<matplotlib.lines.Line2D at 0x7d2d3da6ad70>]"
            ]
          },
          "metadata": {},
          "execution_count": 11
        },
        {
          "output_type": "display_data",
          "data": {
            "text/plain": [
              "<Figure size 1400x500 with 1 Axes>"
            ],
            "image/png": "[encoded data removed]"
          },
          "metadata": {}
        }
      ]
    },
    {
      "cell_type": "code",
      "source": [
        "# Observation\n",
        "# librosa converts signal to mono, meaning the channel will always be one"
      ],
      "metadata": {
        "id": "Y3aXLR9osaNg"
      },
      "execution_count": 12,
      "outputs": []
    },
    {
      "cell_type": "code",
      "source": [
        "## lets read with scipy\n",
        "wsr,wa=wav.read(aud_fil_path)\n",
        "wa"
      ],
      "metadata": {
        "colab": {
          "base_uri": "https://localhost:8080/"
        },
        "id": "GJyQFP2vsz6q",
        "outputId": "9175aed6-5765-419b-98b6-f548c3674ff8"
      },
      "execution_count": 13,
      "outputs": [
        {
          "output_type": "execute_result",
          "data": {
            "text/plain": [
              "array([[ 171,   63],\n",
              "       [ 157,   86],\n",
              "       [ 130,   96],\n",
              "       ...,\n",
              "       [  70, -205],\n",
              "       [ 202, -159],\n",
              "       [ 283,  -81]], dtype=int16)"
            ]
          },
          "metadata": {},
          "execution_count": 13
        }
      ]
    },
    {
      "cell_type": "code",
      "source": [
        "plt.figure(figsize=(14,5))\n",
        "plt.plot(wa)"
      ],
      "metadata": {
        "colab": {
          "base_uri": "https://localhost:8080/",
          "height": 463
        },
        "id": "5KBk-Rh4s_Ci",
        "outputId": "b23f08d7-474c-4f4a-c7f3-25d03ced04f7"
      },
      "execution_count": 14,
      "outputs": [
        {
          "output_type": "execute_result",
          "data": {
            "text/plain": [
              "[<matplotlib.lines.Line2D at 0x7d2d3d9cb640>,\n",
              " <matplotlib.lines.Line2D at 0x7d2d3d9f4e80>]"
            ]
          },
          "metadata": {},
          "execution_count": 14
        },
        {
          "output_type": "display_data",
          "data": {
            "text/plain": [
              "<Figure size 1400x500 with 1 Axes>"
            ],
            "image/png": "[encoded data removed]"
          },
          "metadata": {}
        }
      ]
    },
    {
      "cell_type": "markdown",
      "source": [
        "## Extract Features\n",
        "\n",
        "\n",
        "* using Mel-Frequency Cepstral Coefficients(MFCC) from audio samples to analyse frequency and time characterstics\n",
        "* MFCC summarizes the frequency distribution across window size which allow us to identify features for classification  \n",
        "\n"
      ],
      "metadata": {
        "id": "uQk33-WxteKU"
      }
    },
    {
      "cell_type": "code",
      "source": [
        "mfccs=librosa.feature.mfcc(y=librosa_dat,sr=librosa_sr,n_mfcc=40)\n",
        "print(mfccs.shape)"
      ],
      "metadata": {
        "colab": {
          "base_uri": "https://localhost:8080/"
        },
        "id": "JZzRP5hbtXd6",
        "outputId": "d2ae9f45-78d4-4b7f-97df-079fdead23f8"
      },
      "execution_count": 15,
      "outputs": [
        {
          "output_type": "stream",
          "name": "stdout",
          "text": [
            "(40, 173)\n"
          ]
        }
      ]
    },
    {
      "cell_type": "code",
      "source": [
        "mfccs"
      ],
      "metadata": {
        "colab": {
          "base_uri": "https://localhost:8080/"
        },
        "id": "7x0q5DvUuY7n",
        "outputId": "ed7ae8aa-5f65-4d94-a78e-879305216268"
      },
      "execution_count": 16,
      "outputs": [
        {
          "output_type": "execute_result",
          "data": {
            "text/plain": [
              "array([[-4.8605615e+02, -4.4730469e+02, -4.4184772e+02, ...,\n",
              "        -4.2249933e+02, -4.1990128e+02, -4.3479315e+02],\n",
              "       [ 9.0492447e+01,  9.8961349e+01,  9.8793579e+01, ...,\n",
              "         7.7359352e+01,  7.3746567e+01,  7.3074303e+01],\n",
              "       [-1.6820301e+01, -1.2406603e+01, -1.5042484e+01, ...,\n",
              "        -3.1668331e+01, -2.8136139e+01, -2.9968552e+01],\n",
              "       ...,\n",
              "       [ 4.1776476e+00,  1.9898291e+00,  3.1377463e+00, ...,\n",
              "        -1.1930805e+01, -7.6285944e+00, -3.6759291e+00],\n",
              "       [ 2.8205132e-01, -6.1229098e-01,  1.0903208e+00, ...,\n",
              "         1.2085972e+01,  1.3864525e+01,  1.1060386e+01],\n",
              "       [-8.9769512e-01,  3.0010605e+00,  5.2202439e+00, ...,\n",
              "         1.2405752e+01,  9.6569347e+00,  5.0198421e+00]], dtype=float32)"
            ]
          },
          "metadata": {},
          "execution_count": 16
        }
      ]
    },
    {
      "cell_type": "code",
      "source": [
        "import os\n",
        "audio_dataset_path='/root/sound_datasets/urbansound8k/audio/'\n",
        "metadata=pd.read_csv('/root/sound_datasets/urbansound8k/metadata/UrbanSound8K.csv')\n",
        "metadata.head()"
      ],
      "metadata": {
        "colab": {
          "base_uri": "https://localhost:8080/",
          "height": 206
        },
        "id": "2ss0V8hSubIh",
        "outputId": "306b81c7-c7a8-4717-b78f-a38bd9f9ddad"
      },
      "execution_count": 17,
      "outputs": [
        {
          "output_type": "execute_result",
          "data": {
            "text/plain": [
              "      slice_file_name    fsID  start        end  salience  fold  classID  \\\n",
              "0    100032-3-0-0.wav  100032    0.0   0.317551         1     5        3   \n",
              "1  100263-2-0-117.wav  100263   58.5  62.500000         1     5        2   \n",
              "2  100263-2-0-121.wav  100263   60.5  64.500000         1     5        2   \n",
              "3  100263-2-0-126.wav  100263   63.0  67.000000         1     5        2   \n",
              "4  100263-2-0-137.wav  100263   68.5  72.500000         1     5        2   \n",
              "\n",
              "              class  \n",
              "0          dog_bark  \n",
              "1  children_playing  \n",
              "2  children_playing  \n",
              "3  children_playing  \n",
              "4  children_playing  "
            ],
            "text/html": [
              "\n",
              "  <div id=\"df-1b08cd6a-2a70-4b6e-afa7-94e2fe643347\" class=\"colab-df-container\">\n",
              "    <div>\n",
              "<style scoped>\n",
              "    .dataframe tbody tr th:only-of-type {\n",
              "        vertical-align: middle;\n",
              "    }\n",
              "\n",
              "    .dataframe tbody tr th {\n",
              "        vertical-align: top;\n",
              "    }\n",
              "\n",
              "    .dataframe thead th {\n",
              "        text-align: right;\n",
              "    }\n",
              "</style>\n",
              "<table border=\"1\" class=\"dataframe\">\n",
              "  <thead>\n",
              "    <tr style=\"text-align: right;\">\n",
              "      <th></th>\n",
              "      <th>slice_file_name</th>\n",
              "      <th>fsID</th>\n",
              "      <th>start</th>\n",
              "      <th>end</th>\n",
              "      <th>salience</th>\n",
              "      <th>fold</th>\n",
              "      <th>classID</th>\n",
              "      <th>class</th>\n",
              "    </tr>\n",
              "  </thead>\n",
              "  <tbody>\n",
              "    <tr>\n",
              "      <th>0</th>\n",
              "      <td>100032-3-0-0.wav</td>\n",
              "      <td>100032</td>\n",
              "      <td>0.0</td>\n",
              "      <td>0.317551</td>\n",
              "      <td>1</td>\n",
              "      <td>5</td>\n",
              "      <td>3</td>\n",
              "      <td>dog_bark</td>\n",
              "    </tr>\n",
              "    <tr>\n",
              "      <th>1</th>\n",
              "      <td>100263-2-0-117.wav</td>\n",
              "      <td>100263</td>\n",
              "      <td>58.5</td>\n",
              "      <td>62.500000</td>\n",
              "      <td>1</td>\n",
              "      <td>5</td>\n",
              "      <td>2</td>\n",
              "      <td>children_playing</td>\n",
              "    </tr>\n",
              "    <tr>\n",
              "      <th>2</th>\n",
              "      <td>100263-2-0-121.wav</td>\n",
              "      <td>100263</td>\n",
              "      <td>60.5</td>\n",
              "      <td>64.500000</td>\n",
              "      <td>1</td>\n",
              "      <td>5</td>\n",
              "      <td>2</td>\n",
              "      <td>children_playing</td>\n",
              "    </tr>\n",
              "    <tr>\n",
              "      <th>3</th>\n",
              "      <td>100263-2-0-126.wav</td>\n",
              "      <td>100263</td>\n",
              "      <td>63.0</td>\n",
              "      <td>67.000000</td>\n",
              "      <td>1</td>\n",
              "      <td>5</td>\n",
              "      <td>2</td>\n",
              "      <td>children_playing</td>\n",
              "    </tr>\n",
              "    <tr>\n",
              "      <th>4</th>\n",
              "      <td>100263-2-0-137.wav</td>\n",
              "      <td>100263</td>\n",
              "      <td>68.5</td>\n",
              "      <td>72.500000</td>\n",
              "      <td>1</td>\n",
              "      <td>5</td>\n",
              "      <td>2</td>\n",
              "      <td>children_playing</td>\n",
              "    </tr>\n",
              "  </tbody>\n",
              "</table>\n",
              "</div>\n",
              "    <div class=\"colab-df-buttons\">\n",
              "\n",
              "  <div class=\"colab-df-container\">\n",
              "    <button class=\"colab-df-convert\" onclick=\"convertToInteractive('df-1b08cd6a-2a70-4b6e-afa7-94e2fe643347')\"\n",
              "            title=\"Convert this dataframe to an interactive table.\"\n",
              "            style=\"display:none;\">\n",
              "\n",
              "  <svg xmlns=\"http://www.w3.org/2000/svg\" height=\"24px\" viewBox=\"0 -960 960 960\">\n",
              "    <path d=\"M120-120v-720h720v720H120Zm60-500h600v-160H180v160Zm220 220h160v-160H400v160Zm0 220h160v-160H400v160ZM180-400h160v-160H180v160Zm440 0h160v-160H620v160ZM180-180h160v-160H180v160Zm440 0h160v-160H620v160Z\"/>\n",
              "  </svg>\n",
              "    </button>\n",
              "\n",
              "  <style>\n",
              "    .colab-df-container {\n",
              "      display:flex;\n",
              "      gap: 12px;\n",
              "    }\n",
              "\n",
              "    .colab-df-convert {\n",
              "      background-color: #E8F0FE;\n",
              "      border: none;\n",
              "      border-radius: 50%;\n",
              "      cursor: pointer;\n",
              "      display: none;\n",
              "      fill: #1967D2;\n",
              "      height: 32px;\n",
              "      padding: 0 0 0 0;\n",
              "      width: 32px;\n",
              "    }\n",
              "\n",
              "    .colab-df-convert:hover {\n",
              "      background-color: #E2EBFA;\n",
              "      box-shadow: 0px 1px 2px rgba(60, 64, 67, 0.3), 0px 1px 3px 1px rgba(60, 64, 67, 0.15);\n",
              "      fill: #174EA6;\n",
              "    }\n",
              "\n",
              "    .colab-df-buttons div {\n",
              "      margin-bottom: 4px;\n",
              "    }\n",
              "\n",
              "    [theme=dark] .colab-df-convert {\n",
              "      background-color: #3B4455;\n",
              "      fill: #D2E3FC;\n",
              "    }\n",
              "\n",
              "    [theme=dark] .colab-df-convert:hover {\n",
              "      background-color: #434B5C;\n",
              "      box-shadow: 0px 1px 3px 1px rgba(0, 0, 0, 0.15);\n",
              "      filter: drop-shadow(0px 1px 2px rgba(0, 0, 0, 0.3));\n",
              "      fill: #FFFFFF;\n",
              "    }\n",
              "  </style>\n",
              "\n",
              "    <script>\n",
              "      const buttonEl =\n",
              "        document.querySelector('#df-1b08cd6a-2a70-4b6e-afa7-94e2fe643347 button.colab-df-convert');\n",
              "      buttonEl.style.display =\n",
              "        google.colab.kernel.accessAllowed ? 'block' : 'none';\n",
              "\n",
              "      async function convertToInteractive(key) {\n",
              "        const element = document.querySelector('#df-1b08cd6a-2a70-4b6e-afa7-94e2fe643347');\n",
              "        const dataTable =\n",
              "          await google.colab.kernel.invokeFunction('convertToInteractive',\n",
              "                                                    [key], {});\n",
              "        if (!dataTable) return;\n",
              "\n",
              "        const docLinkHtml = 'Like what you see? Visit the ' +\n",
              "          '<a target=\"_blank\" href=https://colab.research.google.com/notebooks/data_table.ipynb>data table notebook</a>'\n",
              "          + ' to learn more about interactive tables.';\n",
              "        element.innerHTML = '';\n",
              "        dataTable['output_type'] = 'display_data';\n",
              "        await google.colab.output.renderOutput(dataTable, element);\n",
              "        const docLink = document.createElement('div');\n",
              "        docLink.innerHTML = docLinkHtml;\n",
              "        element.appendChild(docLink);\n",
              "      }\n",
              "    </script>\n",
              "  </div>\n",
              "\n",
              "\n",
              "<div id=\"df-c9169b55-4694-4dc5-9e6d-5fb7c9459156\">\n",
              "  <button class=\"colab-df-quickchart\" onclick=\"quickchart('df-c9169b55-4694-4dc5-9e6d-5fb7c9459156')\"\n",
              "            title=\"Suggest charts\"\n",
              "            style=\"display:none;\">\n",
              "\n",
              "<svg xmlns=\"http://www.w3.org/2000/svg\" height=\"24px\"viewBox=\"0 0 24 24\"\n",
              "     width=\"24px\">\n",
              "    <g>\n",
              "        <path d=\"M19 3H5c-1.1 0-2 .9-2 2v14c0 1.1.9 2 2 2h14c1.1 0 2-.9 2-2V5c0-1.1-.9-2-2-2zM9 17H7v-7h2v7zm4 0h-2V7h2v10zm4 0h-2v-4h2v4z\"/>\n",
              "    </g>\n",
              "</svg>\n",
              "  </button>\n",
              "\n",
              "<style>\n",
              "  .colab-df-quickchart {\n",
              "      --bg-color: #E8F0FE;\n",
              "      --fill-color: #1967D2;\n",
              "      --hover-bg-color: #E2EBFA;\n",
              "      --hover-fill-color: #174EA6;\n",
              "      --disabled-fill-color: #AAA;\n",
              "      --disabled-bg-color: #DDD;\n",
              "  }\n",
              "\n",
              "  [theme=dark] .colab-df-quickchart {\n",
              "      --bg-color: #3B4455;\n",
              "      --fill-color: #D2E3FC;\n",
              "      --hover-bg-color: #434B5C;\n",
              "      --hover-fill-color: #FFFFFF;\n",
              "      --disabled-bg-color: #3B4455;\n",
              "      --disabled-fill-color: #666;\n",
              "  }\n",
              "\n",
              "  .colab-df-quickchart {\n",
              "    background-color: var(--bg-color);\n",
              "    border: none;\n",
              "    border-radius: 50%;\n",
              "    cursor: pointer;\n",
              "    display: none;\n",
              "    fill: var(--fill-color);\n",
              "    height: 32px;\n",
              "    padding: 0;\n",
              "    width: 32px;\n",
              "  }\n",
              "\n",
              "  .colab-df-quickchart:hover {\n",
              "    background-color: var(--hover-bg-color);\n",
              "    box-shadow: 0 1px 2px rgba(60, 64, 67, 0.3), 0 1px 3px 1px rgba(60, 64, 67, 0.15);\n",
              "    fill: var(--button-hover-fill-color);\n",
              "  }\n",
              "\n",
              "  .colab-df-quickchart-complete:disabled,\n",
              "  .colab-df-quickchart-complete:disabled:hover {\n",
              "    background-color: var(--disabled-bg-color);\n",
              "    fill: var(--disabled-fill-color);\n",
              "    box-shadow: none;\n",
              "  }\n",
              "\n",
              "  .colab-df-spinner {\n",
              "    border: 2px solid var(--fill-color);\n",
              "    border-color: transparent;\n",
              "    border-bottom-color: var(--fill-color);\n",
              "    animation:\n",
              "      spin 1s steps(1) infinite;\n",
              "  }\n",
              "\n",
              "  @keyframes spin {\n",
              "    0% {\n",
              "      border-color: transparent;\n",
              "      border-bottom-color: var(--fill-color);\n",
              "      border-left-color: var(--fill-color);\n",
              "    }\n",
              "    20% {\n",
              "      border-color: transparent;\n",
              "      border-left-color: var(--fill-color);\n",
              "      border-top-color: var(--fill-color);\n",
              "    }\n",
              "    30% {\n",
              "      border-color: transparent;\n",
              "      border-left-color: var(--fill-color);\n",
              "      border-top-color: var(--fill-color);\n",
              "      border-right-color: var(--fill-color);\n",
              "    }\n",
              "    40% {\n",
              "      border-color: transparent;\n",
              "      border-right-color: var(--fill-color);\n",
              "      border-top-color: var(--fill-color);\n",
              "    }\n",
              "    60% {\n",
              "      border-color: transparent;\n",
              "      border-right-color: var(--fill-color);\n",
              "    }\n",
              "    80% {\n",
              "      border-color: transparent;\n",
              "      border-right-color: var(--fill-color);\n",
              "      border-bottom-color: var(--fill-color);\n",
              "    }\n",
              "    90% {\n",
              "      border-color: transparent;\n",
              "      border-bottom-color: var(--fill-color);\n",
              "    }\n",
              "  }\n",
              "</style>\n",
              "\n",
              "  <script>\n",
              "    async function quickchart(key) {\n",
              "      const quickchartButtonEl =\n",
              "        document.querySelector('#' + key + ' button');\n",
              "      quickchartButtonEl.disabled = true;  // To prevent multiple clicks.\n",
              "      quickchartButtonEl.classList.add('colab-df-spinner');\n",
              "      try {\n",
              "        const charts = await google.colab.kernel.invokeFunction(\n",
              "            'suggestCharts', [key], {});\n",
              "      } catch (error) {\n",
              "        console.error('Error during call to suggestCharts:', error);\n",
              "      }\n",
              "      quickchartButtonEl.classList.remove('colab-df-spinner');\n",
              "      quickchartButtonEl.classList.add('colab-df-quickchart-complete');\n",
              "    }\n",
              "    (() => {\n",
              "      let quickchartButtonEl =\n",
              "        document.querySelector('#df-c9169b55-4694-4dc5-9e6d-5fb7c9459156 button');\n",
              "      quickchartButtonEl.style.display =\n",
              "        google.colab.kernel.accessAllowed ? 'block' : 'none';\n",
              "    })();\n",
              "  </script>\n",
              "</div>\n",
              "\n",
              "    </div>\n",
              "  </div>\n"
            ],
            "application/vnd.google.colaboratory.intrinsic+json": {
              "type": "dataframe",
              "variable_name": "metadata",
              "summary": "{\n  \"name\": \"metadata\",\n  \"rows\": 8732,\n  \"fields\": [\n    {\n      \"column\": \"slice_file_name\",\n      \"properties\": {\n        \"dtype\": \"string\",\n        \"num_unique_values\": 8732,\n        \"samples\": [\n          \"54898-8-0-2.wav\",\n          \"172338-9-0-7.wav\",\n          \"95562-4-3-0.wav\"\n        ],\n        \"semantic_type\": \"\",\n        \"description\": \"\"\n      }\n    },\n    {\n      \"column\": \"fsID\",\n      \"properties\": {\n        \"dtype\": \"number\",\n        \"std\": 57991,\n        \"min\": 344,\n        \"max\": 209992,\n        \"num_unique_values\": 1297,\n        \"samples\": [\n          180257,\n          157940,\n          20015\n        ],\n        \"semantic_type\": \"\",\n        \"description\": \"\"\n      }\n    },\n    {\n      \"column\": \"start\",\n      \"properties\": {\n        \"dtype\": \"number\",\n        \"std\": 74.29212630755421,\n        \"min\": 0.0,\n        \"max\": 600.125356,\n        \"num_unique_values\": 4878,\n        \"samples\": [\n          10.038318,\n          5.711988,\n          4.634753\n        ],\n        \"semantic_type\": \"\",\n        \"description\": \"\"\n      }\n    },\n    {\n      \"column\": \"end\",\n      \"properties\": {\n        \"dtype\": \"number\",\n        \"std\": 74.36966935075833,\n        \"min\": 0.105962,\n        \"max\": 604.125356,\n        \"num_unique_values\": 5020,\n        \"samples\": [\n          13.168347,\n          2.653802,\n          10.286916\n        ],\n        \"semantic_type\": \"\",\n        \"description\": \"\"\n      }\n    },\n    {\n      \"column\": \"salience\",\n      \"properties\": {\n        \"dtype\": \"number\",\n        \"std\": 0,\n        \"min\": 1,\n        \"max\": 2,\n        \"num_unique_values\": 2,\n        \"samples\": [\n          2,\n          1\n        ],\n        \"semantic_type\": \"\",\n        \"description\": \"\"\n      }\n    },\n    {\n      \"column\": \"fold\",\n      \"properties\": {\n        \"dtype\": \"number\",\n        \"std\": 2,\n        \"min\": 1,\n        \"max\": 10,\n        \"num_unique_values\": 10,\n        \"samples\": [\n          3,\n          10\n        ],\n        \"semantic_type\": \"\",\n        \"description\": \"\"\n      }\n    },\n    {\n      \"column\": \"classID\",\n      \"properties\": {\n        \"dtype\": \"number\",\n        \"std\": 2,\n        \"min\": 0,\n        \"max\": 9,\n        \"num_unique_values\": 10,\n        \"samples\": [\n          7,\n          2\n        ],\n        \"semantic_type\": \"\",\n        \"description\": \"\"\n      }\n    },\n    {\n      \"column\": \"class\",\n      \"properties\": {\n        \"dtype\": \"category\",\n        \"num_unique_values\": 10,\n        \"samples\": [\n          \"jackhammer\",\n          \"children_playing\"\n        ],\n        \"semantic_type\": \"\",\n        \"description\": \"\"\n      }\n    }\n  ]\n}"
            }
          },
          "metadata": {},
          "execution_count": 17
        }
      ]
    },
    {
      "cell_type": "code",
      "source": [
        "! pip install resampy"
      ],
      "metadata": {
        "colab": {
          "base_uri": "https://localhost:8080/"
        },
        "id": "VLfvJIrzvyLX",
        "outputId": "01801cd0-bdec-4142-f42b-03e33f00db3f"
      },
      "execution_count": 24,
      "outputs": [
        {
          "output_type": "stream",
          "name": "stdout",
          "text": [
            "Collecting resampy\n",
            "  Downloading resampy-0.4.3-py3-none-any.whl (3.1 MB)\n",
            "\u001b[2K     \u001b[90m━━━━━━━━━━━━━━━━━━━━━━━━━━━━━━━━━━━━━━━━\u001b[0m \u001b[32m3.1/3.1 MB\u001b[0m \u001b[31m15.1 MB/s\u001b[0m eta \u001b[36m0:00:00\u001b[0m\n",
            "\u001b[?25hRequirement already satisfied: numpy>=1.17 in /usr/local/lib/python3.10/dist-packages (from resampy) (1.25.2)\n",
            "Requirement already satisfied: numba>=0.53 in /usr/local/lib/python3.10/dist-packages (from resampy) (0.58.1)\n",
            "Requirement already satisfied: llvmlite<0.42,>=0.41.0dev0 in /usr/local/lib/python3.10/dist-packages (from numba>=0.53->resampy) (0.41.1)\n",
            "Installing collected packages: resampy\n",
            "Successfully installed resampy-0.4.3\n"
          ]
        }
      ]
    },
    {
      "cell_type": "code",
      "source": [
        "def features_extractor(file_name):\n",
        "  audio,sample_rate=librosa.load(file_name,res_type='kaiser_fast')\n",
        "  mfccs_features=librosa.feature.mfcc(y=audio,sr=sample_rate,n_mfcc=40)\n",
        "  mfccs_scaled_features=np.mean(mfccs_features.T,axis=0)\n",
        "  return mfccs_scaled_features"
      ],
      "metadata": {
        "id": "rMcpmr0_utOD"
      },
      "execution_count": 18,
      "outputs": []
    },
    {
      "cell_type": "code",
      "source": [
        "! pip install resampy"
      ],
      "metadata": {
        "colab": {
          "base_uri": "https://localhost:8080/"
        },
        "id": "q-ViL73S0eBF",
        "outputId": "fc32fb93-f960-4a1e-aa2a-880e5b5cb662"
      },
      "execution_count": 27,
      "outputs": [
        {
          "output_type": "stream",
          "name": "stdout",
          "text": [
            "Requirement already satisfied: resampy in /usr/local/lib/python3.10/dist-packages (0.4.3)\n",
            "Requirement already satisfied: numpy>=1.17 in /usr/local/lib/python3.10/dist-packages (from resampy) (1.25.2)\n",
            "Requirement already satisfied: numba>=0.53 in /usr/local/lib/python3.10/dist-packages (from resampy) (0.58.1)\n",
            "Requirement already satisfied: llvmlite<0.42,>=0.41.0dev0 in /usr/local/lib/python3.10/dist-packages (from numba>=0.53->resampy) (0.41.1)\n"
          ]
        }
      ]
    },
    {
      "cell_type": "code",
      "source": [
        "import resampy"
      ],
      "metadata": {
        "id": "SkdGzAAX0lMV"
      },
      "execution_count": 28,
      "outputs": []
    },
    {
      "cell_type": "code",
      "source": [
        "import numpy as np\n",
        "from tqdm import tqdm\n",
        "import resampy\n",
        "\n",
        "extracted_features=[]\n",
        "for index_num,row in tqdm(metadata.iterrows()):\n",
        "  file_name=os.path.join(os.path.abspath(audio_dataset_path),'fold'+str(row[\"fold\"])+'/',str(row[\"slice_file_name\"]))\n",
        "  final_class_labels=row[\"class\"]\n",
        "  data=features_extractor(file_name)\n",
        "  extracted_features.append([data,final_class_labels])"
      ],
      "metadata": {
        "colab": {
          "base_uri": "https://localhost:8080/"
        },
        "id": "azH4raurvSIo",
        "outputId": "655dceee-82c0-418a-f55f-f581be78c350"
      },
      "execution_count": 19,
      "outputs": [
        {
          "output_type": "stream",
          "name": "stderr",
          "text": [
            "3555it [05:54, 11.13it/s]/usr/local/lib/python3.10/dist-packages/librosa/core/spectrum.py:266: UserWarning: n_fft=2048 is too large for input signal of length=1323\n",
            "  warnings.warn(\n",
            "8326it [13:34, 11.25it/s]/usr/local/lib/python3.10/dist-packages/librosa/core/spectrum.py:266: UserWarning: n_fft=2048 is too large for input signal of length=1103\n",
            "  warnings.warn(\n",
            "/usr/local/lib/python3.10/dist-packages/librosa/core/spectrum.py:266: UserWarning: n_fft=2048 is too large for input signal of length=1523\n",
            "  warnings.warn(\n",
            "8732it [14:11, 10.26it/s]\n"
          ]
        }
      ]
    },
    {
      "cell_type": "code",
      "source": [
        "### converting extracted_features to Pandas dataframe\n",
        "extracted_features_df=pd.DataFrame(extracted_features,columns=['feature','class'])\n",
        "extracted_features_df.head()"
      ],
      "metadata": {
        "colab": {
          "base_uri": "https://localhost:8080/",
          "height": 206
        },
        "id": "iiTqvSlPvtF5",
        "outputId": "a4b61f45-d426-4a24-b2ac-309aa949cda1"
      },
      "execution_count": 20,
      "outputs": [
        {
          "output_type": "execute_result",
          "data": {
            "text/plain": [
              "                                             feature             class\n",
              "0  [-217.35526, 70.22339, -130.38528, -53.282906,...          dog_bark\n",
              "1  [-424.09818, 109.34077, -52.919525, 60.86475, ...  children_playing\n",
              "2  [-458.7912, 121.38421, -46.520657, 52.00812, -...  children_playing\n",
              "3  [-413.89984, 101.66373, -35.42945, 53.036358, ...  children_playing\n",
              "4  [-446.60355, 113.685425, -52.402214, 60.302044...  children_playing"
            ],
            "text/html": [
              "\n",
              "  <div id=\"df-ecc2fb11-97c2-4672-99e7-03a81770dbb0\" class=\"colab-df-container\">\n",
              "    <div>\n",
              "<style scoped>\n",
              "    .dataframe tbody tr th:only-of-type {\n",
              "        vertical-align: middle;\n",
              "    }\n",
              "\n",
              "    .dataframe tbody tr th {\n",
              "        vertical-align: top;\n",
              "    }\n",
              "\n",
              "    .dataframe thead th {\n",
              "        text-align: right;\n",
              "    }\n",
              "</style>\n",
              "<table border=\"1\" class=\"dataframe\">\n",
              "  <thead>\n",
              "    <tr style=\"text-align: right;\">\n",
              "      <th></th>\n",
              "      <th>feature</th>\n",
              "      <th>class</th>\n",
              "    </tr>\n",
              "  </thead>\n",
              "  <tbody>\n",
              "    <tr>\n",
              "      <th>0</th>\n",
              "      <td>[-217.35526, 70.22339, -130.38528, -53.282906,...</td>\n",
              "      <td>dog_bark</td>\n",
              "    </tr>\n",
              "    <tr>\n",
              "      <th>1</th>\n",
              "      <td>[-424.09818, 109.34077, -52.919525, 60.86475, ...</td>\n",
              "      <td>children_playing</td>\n",
              "    </tr>\n",
              "    <tr>\n",
              "      <th>2</th>\n",
              "      <td>[-458.7912, 121.38421, -46.520657, 52.00812, -...</td>\n",
              "      <td>children_playing</td>\n",
              "    </tr>\n",
              "    <tr>\n",
              "      <th>3</th>\n",
              "      <td>[-413.89984, 101.66373, -35.42945, 53.036358, ...</td>\n",
              "      <td>children_playing</td>\n",
              "    </tr>\n",
              "    <tr>\n",
              "      <th>4</th>\n",
              "      <td>[-446.60355, 113.685425, -52.402214, 60.302044...</td>\n",
              "      <td>children_playing</td>\n",
              "    </tr>\n",
              "  </tbody>\n",
              "</table>\n",
              "</div>\n",
              "    <div class=\"colab-df-buttons\">\n",
              "\n",
              "  <div class=\"colab-df-container\">\n",
              "    <button class=\"colab-df-convert\" onclick=\"convertToInteractive('df-ecc2fb11-97c2-4672-99e7-03a81770dbb0')\"\n",
              "            title=\"Convert this dataframe to an interactive table.\"\n",
              "            style=\"display:none;\">\n",
              "\n",
              "  <svg xmlns=\"http://www.w3.org/2000/svg\" height=\"24px\" viewBox=\"0 -960 960 960\">\n",
              "    <path d=\"M120-120v-720h720v720H120Zm60-500h600v-160H180v160Zm220 220h160v-160H400v160Zm0 220h160v-160H400v160ZM180-400h160v-160H180v160Zm440 0h160v-160H620v160ZM180-180h160v-160H180v160Zm440 0h160v-160H620v160Z\"/>\n",
              "  </svg>\n",
              "    </button>\n",
              "\n",
              "  <style>\n",
              "    .colab-df-container {\n",
              "      display:flex;\n",
              "      gap: 12px;\n",
              "    }\n",
              "\n",
              "    .colab-df-convert {\n",
              "      background-color: #E8F0FE;\n",
              "      border: none;\n",
              "      border-radius: 50%;\n",
              "      cursor: pointer;\n",
              "      display: none;\n",
              "      fill: #1967D2;\n",
              "      height: 32px;\n",
              "      padding: 0 0 0 0;\n",
              "      width: 32px;\n",
              "    }\n",
              "\n",
              "    .colab-df-convert:hover {\n",
              "      background-color: #E2EBFA;\n",
              "      box-shadow: 0px 1px 2px rgba(60, 64, 67, 0.3), 0px 1px 3px 1px rgba(60, 64, 67, 0.15);\n",
              "      fill: #174EA6;\n",
              "    }\n",
              "\n",
              "    .colab-df-buttons div {\n",
              "      margin-bottom: 4px;\n",
              "    }\n",
              "\n",
              "    [theme=dark] .colab-df-convert {\n",
              "      background-color: #3B4455;\n",
              "      fill: #D2E3FC;\n",
              "    }\n",
              "\n",
              "    [theme=dark] .colab-df-convert:hover {\n",
              "      background-color: #434B5C;\n",
              "      box-shadow: 0px 1px 3px 1px rgba(0, 0, 0, 0.15);\n",
              "      filter: drop-shadow(0px 1px 2px rgba(0, 0, 0, 0.3));\n",
              "      fill: #FFFFFF;\n",
              "    }\n",
              "  </style>\n",
              "\n",
              "    <script>\n",
              "      const buttonEl =\n",
              "        document.querySelector('#df-ecc2fb11-97c2-4672-99e7-03a81770dbb0 button.colab-df-convert');\n",
              "      buttonEl.style.display =\n",
              "        google.colab.kernel.accessAllowed ? 'block' : 'none';\n",
              "\n",
              "      async function convertToInteractive(key) {\n",
              "        const element = document.querySelector('#df-ecc2fb11-97c2-4672-99e7-03a81770dbb0');\n",
              "        const dataTable =\n",
              "          await google.colab.kernel.invokeFunction('convertToInteractive',\n",
              "                                                    [key], {});\n",
              "        if (!dataTable) return;\n",
              "\n",
              "        const docLinkHtml = 'Like what you see? Visit the ' +\n",
              "          '<a target=\"_blank\" href=https://colab.research.google.com/notebooks/data_table.ipynb>data table notebook</a>'\n",
              "          + ' to learn more about interactive tables.';\n",
              "        element.innerHTML = '';\n",
              "        dataTable['output_type'] = 'display_data';\n",
              "        await google.colab.output.renderOutput(dataTable, element);\n",
              "        const docLink = document.createElement('div');\n",
              "        docLink.innerHTML = docLinkHtml;\n",
              "        element.appendChild(docLink);\n",
              "      }\n",
              "    </script>\n",
              "  </div>\n",
              "\n",
              "\n",
              "<div id=\"df-8cae42c3-4392-43f9-a0d9-14f00d0d0847\">\n",
              "  <button class=\"colab-df-quickchart\" onclick=\"quickchart('df-8cae42c3-4392-43f9-a0d9-14f00d0d0847')\"\n",
              "            title=\"Suggest charts\"\n",
              "            style=\"display:none;\">\n",
              "\n",
              "<svg xmlns=\"http://www.w3.org/2000/svg\" height=\"24px\"viewBox=\"0 0 24 24\"\n",
              "     width=\"24px\">\n",
              "    <g>\n",
              "        <path d=\"M19 3H5c-1.1 0-2 .9-2 2v14c0 1.1.9 2 2 2h14c1.1 0 2-.9 2-2V5c0-1.1-.9-2-2-2zM9 17H7v-7h2v7zm4 0h-2V7h2v10zm4 0h-2v-4h2v4z\"/>\n",
              "    </g>\n",
              "</svg>\n",
              "  </button>\n",
              "\n",
              "<style>\n",
              "  .colab-df-quickchart {\n",
              "      --bg-color: #E8F0FE;\n",
              "      --fill-color: #1967D2;\n",
              "      --hover-bg-color: #E2EBFA;\n",
              "      --hover-fill-color: #174EA6;\n",
              "      --disabled-fill-color: #AAA;\n",
              "      --disabled-bg-color: #DDD;\n",
              "  }\n",
              "\n",
              "  [theme=dark] .colab-df-quickchart {\n",
              "      --bg-color: #3B4455;\n",
              "      --fill-color: #D2E3FC;\n",
              "      --hover-bg-color: #434B5C;\n",
              "      --hover-fill-color: #FFFFFF;\n",
              "      --disabled-bg-color: #3B4455;\n",
              "      --disabled-fill-color: #666;\n",
              "  }\n",
              "\n",
              "  .colab-df-quickchart {\n",
              "    background-color: var(--bg-color);\n",
              "    border: none;\n",
              "    border-radius: 50%;\n",
              "    cursor: pointer;\n",
              "    display: none;\n",
              "    fill: var(--fill-color);\n",
              "    height: 32px;\n",
              "    padding: 0;\n",
              "    width: 32px;\n",
              "  }\n",
              "\n",
              "  .colab-df-quickchart:hover {\n",
              "    background-color: var(--hover-bg-color);\n",
              "    box-shadow: 0 1px 2px rgba(60, 64, 67, 0.3), 0 1px 3px 1px rgba(60, 64, 67, 0.15);\n",
              "    fill: var(--button-hover-fill-color);\n",
              "  }\n",
              "\n",
              "  .colab-df-quickchart-complete:disabled,\n",
              "  .colab-df-quickchart-complete:disabled:hover {\n",
              "    background-color: var(--disabled-bg-color);\n",
              "    fill: var(--disabled-fill-color);\n",
              "    box-shadow: none;\n",
              "  }\n",
              "\n",
              "  .colab-df-spinner {\n",
              "    border: 2px solid var(--fill-color);\n",
              "    border-color: transparent;\n",
              "    border-bottom-color: var(--fill-color);\n",
              "    animation:\n",
              "      spin 1s steps(1) infinite;\n",
              "  }\n",
              "\n",
              "  @keyframes spin {\n",
              "    0% {\n",
              "      border-color: transparent;\n",
              "      border-bottom-color: var(--fill-color);\n",
              "      border-left-color: var(--fill-color);\n",
              "    }\n",
              "    20% {\n",
              "      border-color: transparent;\n",
              "      border-left-color: var(--fill-color);\n",
              "      border-top-color: var(--fill-color);\n",
              "    }\n",
              "    30% {\n",
              "      border-color: transparent;\n",
              "      border-left-color: var(--fill-color);\n",
              "      border-top-color: var(--fill-color);\n",
              "      border-right-color: var(--fill-color);\n",
              "    }\n",
              "    40% {\n",
              "      border-color: transparent;\n",
              "      border-right-color: var(--fill-color);\n",
              "      border-top-color: var(--fill-color);\n",
              "    }\n",
              "    60% {\n",
              "      border-color: transparent;\n",
              "      border-right-color: var(--fill-color);\n",
              "    }\n",
              "    80% {\n",
              "      border-color: transparent;\n",
              "      border-right-color: var(--fill-color);\n",
              "      border-bottom-color: var(--fill-color);\n",
              "    }\n",
              "    90% {\n",
              "      border-color: transparent;\n",
              "      border-bottom-color: var(--fill-color);\n",
              "    }\n",
              "  }\n",
              "</style>\n",
              "\n",
              "  <script>\n",
              "    async function quickchart(key) {\n",
              "      const quickchartButtonEl =\n",
              "        document.querySelector('#' + key + ' button');\n",
              "      quickchartButtonEl.disabled = true;  // To prevent multiple clicks.\n",
              "      quickchartButtonEl.classList.add('colab-df-spinner');\n",
              "      try {\n",
              "        const charts = await google.colab.kernel.invokeFunction(\n",
              "            'suggestCharts', [key], {});\n",
              "      } catch (error) {\n",
              "        console.error('Error during call to suggestCharts:', error);\n",
              "      }\n",
              "      quickchartButtonEl.classList.remove('colab-df-spinner');\n",
              "      quickchartButtonEl.classList.add('colab-df-quickchart-complete');\n",
              "    }\n",
              "    (() => {\n",
              "      let quickchartButtonEl =\n",
              "        document.querySelector('#df-8cae42c3-4392-43f9-a0d9-14f00d0d0847 button');\n",
              "      quickchartButtonEl.style.display =\n",
              "        google.colab.kernel.accessAllowed ? 'block' : 'none';\n",
              "    })();\n",
              "  </script>\n",
              "</div>\n",
              "\n",
              "    </div>\n",
              "  </div>\n"
            ],
            "application/vnd.google.colaboratory.intrinsic+json": {
              "type": "dataframe",
              "variable_name": "extracted_features_df",
              "summary": "{\n  \"name\": \"extracted_features_df\",\n  \"rows\": 8732,\n  \"fields\": [\n    {\n      \"column\": \"feature\",\n      \"properties\": {\n        \"dtype\": \"object\",\n        \"semantic_type\": \"\",\n        \"description\": \"\"\n      }\n    },\n    {\n      \"column\": \"class\",\n      \"properties\": {\n        \"dtype\": \"category\",\n        \"num_unique_values\": 10,\n        \"samples\": [\n          \"jackhammer\",\n          \"children_playing\",\n          \"gun_shot\"\n        ],\n        \"semantic_type\": \"\",\n        \"description\": \"\"\n      }\n    }\n  ]\n}"
            }
          },
          "metadata": {},
          "execution_count": 20
        }
      ]
    },
    {
      "cell_type": "code",
      "source": [
        "### Split the dataset into independent and dependent dataset\n",
        "X=np.array(extracted_features_df['feature'].tolist())\n",
        "y=np.array(extracted_features_df['class'].tolist())\n",
        "X.shape"
      ],
      "metadata": {
        "colab": {
          "base_uri": "https://localhost:8080/"
        },
        "id": "DvS_H_fB4Ss1",
        "outputId": "32c6f3a3-a03c-4657-f5ce-ce3bac9cfc20"
      },
      "execution_count": 21,
      "outputs": [
        {
          "output_type": "execute_result",
          "data": {
            "text/plain": [
              "(8732, 40)"
            ]
          },
          "metadata": {},
          "execution_count": 21
        }
      ]
    },
    {
      "cell_type": "code",
      "source": [
        "y"
      ],
      "metadata": {
        "colab": {
          "base_uri": "https://localhost:8080/"
        },
        "id": "fJ5zqE6o4VWa",
        "outputId": "232cb8ed-7770-40b6-d7a1-5481e069e497"
      },
      "execution_count": 22,
      "outputs": [
        {
          "output_type": "execute_result",
          "data": {
            "text/plain": [
              "array(['dog_bark', 'children_playing', 'children_playing', ...,\n",
              "       'car_horn', 'car_horn', 'car_horn'], dtype='<U16')"
            ]
          },
          "metadata": {},
          "execution_count": 22
        }
      ]
    },
    {
      "cell_type": "code",
      "source": [
        "### Label Encoding\n",
        "###y=np.array(pd.get_dummies(y))\n",
        "### Label Encoder\n",
        "from tensorflow.keras.utils import to_categorical\n",
        "from sklearn.preprocessing import LabelEncoder\n",
        "labelencoder=LabelEncoder()\n",
        "y=to_categorical(labelencoder.fit_transform(y))"
      ],
      "metadata": {
        "id": "WdtBawbW4Vxh"
      },
      "execution_count": 23,
      "outputs": []
    },
    {
      "cell_type": "code",
      "source": [
        "y"
      ],
      "metadata": {
        "colab": {
          "base_uri": "https://localhost:8080/"
        },
        "id": "OawLwoIc4Z0J",
        "outputId": "62172759-3caf-46df-a3e0-5e0b706eb498"
      },
      "execution_count": 24,
      "outputs": [
        {
          "output_type": "execute_result",
          "data": {
            "text/plain": [
              "array([[0., 0., 0., ..., 0., 0., 0.],\n",
              "       [0., 0., 1., ..., 0., 0., 0.],\n",
              "       [0., 0., 1., ..., 0., 0., 0.],\n",
              "       ...,\n",
              "       [0., 1., 0., ..., 0., 0., 0.],\n",
              "       [0., 1., 0., ..., 0., 0., 0.],\n",
              "       [0., 1., 0., ..., 0., 0., 0.]], dtype=float32)"
            ]
          },
          "metadata": {},
          "execution_count": 24
        }
      ]
    },
    {
      "cell_type": "code",
      "source": [
        "### Train Test Split\n",
        "from sklearn.model_selection import train_test_split\n",
        "X_train,X_test,y_train,y_test=train_test_split(X,y,test_size=0.2,random_state=0)\n",
        "X_train"
      ],
      "metadata": {
        "colab": {
          "base_uri": "https://localhost:8080/"
        },
        "id": "f_zZeglD4dRT",
        "outputId": "42609e54-aa3b-49f6-9c9e-8194428ca99c"
      },
      "execution_count": 25,
      "outputs": [
        {
          "output_type": "execute_result",
          "data": {
            "text/plain": [
              "array([[-1.3110471e+02,  1.1250591e+02, -2.2574696e+01, ...,\n",
              "         3.2466519e+00, -1.3690233e+00,  2.7557547e+00],\n",
              "       [-1.3670342e+01,  9.1085083e+01, -7.7927332e+00, ...,\n",
              "        -3.2530518e+00, -5.2774525e+00, -1.5569724e+00],\n",
              "       [-4.9871544e+01,  2.6535317e-01, -2.0500937e+01, ...,\n",
              "         2.8545949e+00, -1.6092046e+00,  3.5248060e+00],\n",
              "       ...,\n",
              "       [-4.2701236e+02,  9.2623039e+01,  3.1293974e+00, ...,\n",
              "         7.4264121e-01,  7.3349106e-01,  7.1100926e-01],\n",
              "       [-1.4575461e+02,  1.3626578e+02, -3.3515522e+01, ...,\n",
              "         1.4681191e+00, -2.0091696e+00, -8.8218242e-01],\n",
              "       [-4.2103134e+02,  2.1065454e+02,  3.4906633e+00, ...,\n",
              "        -5.3888674e+00, -3.3713613e+00, -1.5665109e+00]], dtype=float32)"
            ]
          },
          "metadata": {},
          "execution_count": 25
        }
      ]
    },
    {
      "cell_type": "code",
      "source": [
        "y"
      ],
      "metadata": {
        "colab": {
          "base_uri": "https://localhost:8080/"
        },
        "id": "U-WdNBsJ4dyo",
        "outputId": "8be9f55b-c3f6-43af-a44a-79889d69f351"
      },
      "execution_count": 26,
      "outputs": [
        {
          "output_type": "execute_result",
          "data": {
            "text/plain": [
              "array([[0., 0., 0., ..., 0., 0., 0.],\n",
              "       [0., 0., 1., ..., 0., 0., 0.],\n",
              "       [0., 0., 1., ..., 0., 0., 0.],\n",
              "       ...,\n",
              "       [0., 1., 0., ..., 0., 0., 0.],\n",
              "       [0., 1., 0., ..., 0., 0., 0.],\n",
              "       [0., 1., 0., ..., 0., 0., 0.]], dtype=float32)"
            ]
          },
          "metadata": {},
          "execution_count": 26
        }
      ]
    },
    {
      "cell_type": "code",
      "source": [
        "X_train.shape"
      ],
      "metadata": {
        "colab": {
          "base_uri": "https://localhost:8080/"
        },
        "id": "mN6q-BTj4g0-",
        "outputId": "1ce798f3-47dc-48f0-f2d7-0010dbc396e1"
      },
      "execution_count": 27,
      "outputs": [
        {
          "output_type": "execute_result",
          "data": {
            "text/plain": [
              "(6985, 40)"
            ]
          },
          "metadata": {},
          "execution_count": 27
        }
      ]
    },
    {
      "cell_type": "code",
      "source": [
        "X_test.shape"
      ],
      "metadata": {
        "colab": {
          "base_uri": "https://localhost:8080/"
        },
        "id": "_-JOpGXg4ibI",
        "outputId": "94573a44-62d2-4ac9-cd4c-cae2538b8708"
      },
      "execution_count": 28,
      "outputs": [
        {
          "output_type": "execute_result",
          "data": {
            "text/plain": [
              "(1747, 40)"
            ]
          },
          "metadata": {},
          "execution_count": 28
        }
      ]
    },
    {
      "cell_type": "code",
      "source": [
        "y_train.shape"
      ],
      "metadata": {
        "colab": {
          "base_uri": "https://localhost:8080/"
        },
        "id": "EYdm6emC4kMD",
        "outputId": "5c38d15a-4588-4c76-f7bc-4105d61a6eb8"
      },
      "execution_count": 29,
      "outputs": [
        {
          "output_type": "execute_result",
          "data": {
            "text/plain": [
              "(6985, 10)"
            ]
          },
          "metadata": {},
          "execution_count": 29
        }
      ]
    },
    {
      "cell_type": "code",
      "source": [
        "y_test.shape"
      ],
      "metadata": {
        "colab": {
          "base_uri": "https://localhost:8080/"
        },
        "id": "OgotF5H04l0-",
        "outputId": "d12e5728-dfd8-4288-bbe2-9473bde7b581"
      },
      "execution_count": 30,
      "outputs": [
        {
          "output_type": "execute_result",
          "data": {
            "text/plain": [
              "(1747, 10)"
            ]
          },
          "metadata": {},
          "execution_count": 30
        }
      ]
    },
    {
      "cell_type": "code",
      "source": [
        "#Model Creation"
      ],
      "metadata": {
        "id": "yXg9Jvm94nO3"
      },
      "execution_count": 31,
      "outputs": []
    },
    {
      "cell_type": "code",
      "source": [
        "import tensorflow as tf\n",
        "print(tf.__version__)"
      ],
      "metadata": {
        "colab": {
          "base_uri": "https://localhost:8080/"
        },
        "id": "zsvVQPO94snS",
        "outputId": "daf97591-e2be-456f-900a-e20db24978d6"
      },
      "execution_count": 32,
      "outputs": [
        {
          "output_type": "stream",
          "name": "stdout",
          "text": [
            "2.15.0\n"
          ]
        }
      ]
    },
    {
      "cell_type": "code",
      "source": [
        "from tensorflow.keras.models import Sequential\n",
        "from tensorflow.keras.layers import Dense,Dropout,Activation,Flatten\n",
        "from tensorflow.keras.optimizers import Adam\n",
        "from sklearn import metrics"
      ],
      "metadata": {
        "id": "lKYO-uUO4s9C"
      },
      "execution_count": 33,
      "outputs": []
    },
    {
      "cell_type": "code",
      "source": [
        "### No of classes\n",
        "num_labels=y.shape[1]\n",
        "num_labels"
      ],
      "metadata": {
        "colab": {
          "base_uri": "https://localhost:8080/"
        },
        "id": "syZOCfS_41-g",
        "outputId": "cdabd01c-6941-42e5-d125-9d9470f61a7d"
      },
      "execution_count": 40,
      "outputs": [
        {
          "output_type": "execute_result",
          "data": {
            "text/plain": [
              "10"
            ]
          },
          "metadata": {},
          "execution_count": 40
        }
      ]
    },
    {
      "cell_type": "code",
      "source": [
        "model=Sequential()\n",
        "###first layer\n",
        "model.add(Dense(100,input_shape=(40,)))\n",
        "model.add(Activation('relu'))\n",
        "model.add(Dropout(0.5))\n",
        "###second layer\n",
        "model.add(Dense(200))\n",
        "model.add(Activation('relu'))\n",
        "model.add(Dropout(0.5))\n",
        "###third layer\n",
        "model.add(Dense(100))\n",
        "model.add(Activation('relu'))\n",
        "model.add(Dropout(0.5))\n",
        "\n",
        "###final layer\n",
        "model.add(Dense(num_labels))\n",
        "model.add(Activation('softmax'))"
      ],
      "metadata": {
        "id": "GgeIKweA4vFH"
      },
      "execution_count": 36,
      "outputs": []
    },
    {
      "cell_type": "code",
      "source": [
        "model.summary()"
      ],
      "metadata": {
        "colab": {
          "base_uri": "https://localhost:8080/"
        },
        "id": "2XfRDAWp4xT8",
        "outputId": "5b0920ac-95af-40ef-d15e-d5bb9d02dafe"
      },
      "execution_count": 37,
      "outputs": [
        {
          "output_type": "stream",
          "name": "stdout",
          "text": [
            "Model: \"sequential_1\"\n",
            "_________________________________________________________________\n",
            " Layer (type)                Output Shape              Param #   \n",
            "=================================================================\n",
            " dense_3 (Dense)             (None, 100)               4100      \n",
            "                                                                 \n",
            " activation_3 (Activation)   (None, 100)               0         \n",
            "                                                                 \n",
            " dropout_3 (Dropout)         (None, 100)               0         \n",
            "                                                                 \n",
            " dense_4 (Dense)             (None, 200)               20200     \n",
            "                                                                 \n",
            " activation_4 (Activation)   (None, 200)               0         \n",
            "                                                                 \n",
            " dropout_4 (Dropout)         (None, 200)               0         \n",
            "                                                                 \n",
            " dense_5 (Dense)             (None, 100)               20100     \n",
            "                                                                 \n",
            " activation_5 (Activation)   (None, 100)               0         \n",
            "                                                                 \n",
            " dropout_5 (Dropout)         (None, 100)               0         \n",
            "                                                                 \n",
            " dense_6 (Dense)             (None, 10)                1010      \n",
            "                                                                 \n",
            " activation_6 (Activation)   (None, 10)                0         \n",
            "                                                                 \n",
            "=================================================================\n",
            "Total params: 45410 (177.38 KB)\n",
            "Trainable params: 45410 (177.38 KB)\n",
            "Non-trainable params: 0 (0.00 Byte)\n",
            "_________________________________________________________________\n"
          ]
        }
      ]
    },
    {
      "cell_type": "code",
      "source": [
        "model.compile(loss='categorical_crossentropy',metrics=['accuracy'],optimizer='adam')\n",
        "## Trianing my model\n",
        "from tensorflow.keras.callbacks import ModelCheckpoint\n",
        "from datetime import datetime\n",
        "\n",
        "num_epochs = 100\n",
        "num_batch_size = 32\n",
        "\n",
        "checkpointer = ModelCheckpoint(filepath='saved_models/audio_classification.hdf5',\n",
        "                               verbose=1, save_best_only=True)\n",
        "start = datetime.now()\n",
        "\n",
        "model.fit(X_train, y_train, batch_size=num_batch_size, epochs=num_epochs, validation_data=(X_test, y_test), callbacks=[checkpointer], verbose=1)\n",
        "\n",
        "\n",
        "duration = datetime.now() - start\n",
        "print(\"Training completed in time: \", duration)"
      ],
      "metadata": {
        "colab": {
          "base_uri": "https://localhost:8080/"
        },
        "id": "W6P5xD9J45qc",
        "outputId": "013326bf-588a-48f2-84e8-8501c02e5b5b"
      },
      "execution_count": 38,
      "outputs": [
        {
          "output_type": "stream",
          "name": "stdout",
          "text": [
            "Epoch 1/100\n",
            "219/219 [==============================] - ETA: 0s - loss: 10.9047 - accuracy: 0.1154\n",
            "Epoch 1: val_loss improved from inf to 2.29201, saving model to saved_models/audio_classification.hdf5\n",
            "219/219 [==============================] - 7s 8ms/step - loss: 10.9047 - accuracy: 0.1154 - val_loss: 2.2920 - val_accuracy: 0.1105\n",
            "Epoch 2/100\n",
            " 21/219 [=>............................] - ETA: 1s - loss: 2.7349 - accuracy: 0.1324"
          ]
        },
        {
          "output_type": "stream",
          "name": "stderr",
          "text": [
            "/usr/local/lib/python3.10/dist-packages/keras/src/engine/training.py:3103: UserWarning: You are saving your model as an HDF5 file via `model.save()`. This file format is considered legacy. We recommend using instead the native Keras format, e.g. `model.save('my_model.keras')`.\n",
            "  saving_api.save_model(\n"
          ]
        },
        {
          "output_type": "stream",
          "name": "stdout",
          "text": [
            "214/219 [============================>.] - ETA: 0s - loss: 2.5177 - accuracy: 0.1196\n",
            "Epoch 2: val_loss improved from 2.29201 to 2.28171, saving model to saved_models/audio_classification.hdf5\n",
            "219/219 [==============================] - 2s 7ms/step - loss: 2.5140 - accuracy: 0.1198 - val_loss: 2.2817 - val_accuracy: 0.1093\n",
            "Epoch 3/100\n",
            "209/219 [===========================>..] - ETA: 0s - loss: 2.3548 - accuracy: 0.1238\n",
            "Epoch 3: val_loss improved from 2.28171 to 2.27473, saving model to saved_models/audio_classification.hdf5\n",
            "219/219 [==============================] - 1s 6ms/step - loss: 2.3530 - accuracy: 0.1233 - val_loss: 2.2747 - val_accuracy: 0.1093\n",
            "Epoch 4/100\n",
            "210/219 [===========================>..] - ETA: 0s - loss: 2.2939 - accuracy: 0.1207\n",
            "Epoch 4: val_loss improved from 2.27473 to 2.26996, saving model to saved_models/audio_classification.hdf5\n",
            "219/219 [==============================] - 1s 5ms/step - loss: 2.2948 - accuracy: 0.1215 - val_loss: 2.2700 - val_accuracy: 0.1139\n",
            "Epoch 5/100\n",
            "214/219 [============================>.] - ETA: 0s - loss: 2.2760 - accuracy: 0.1178\n",
            "Epoch 5: val_loss improved from 2.26996 to 2.25845, saving model to saved_models/audio_classification.hdf5\n",
            "219/219 [==============================] - 1s 5ms/step - loss: 2.2756 - accuracy: 0.1175 - val_loss: 2.2585 - val_accuracy: 0.1196\n",
            "Epoch 6/100\n",
            "212/219 [============================>.] - ETA: 0s - loss: 2.2567 - accuracy: 0.1278\n",
            "Epoch 6: val_loss improved from 2.25845 to 2.23209, saving model to saved_models/audio_classification.hdf5\n",
            "219/219 [==============================] - 1s 5ms/step - loss: 2.2556 - accuracy: 0.1284 - val_loss: 2.2321 - val_accuracy: 0.1282\n",
            "Epoch 7/100\n",
            "219/219 [==============================] - ETA: 0s - loss: 2.2371 - accuracy: 0.1427\n",
            "Epoch 7: val_loss improved from 2.23209 to 2.17538, saving model to saved_models/audio_classification.hdf5\n",
            "219/219 [==============================] - 1s 7ms/step - loss: 2.2371 - accuracy: 0.1427 - val_loss: 2.1754 - val_accuracy: 0.1803\n",
            "Epoch 8/100\n",
            "213/219 [============================>.] - ETA: 0s - loss: 2.2012 - accuracy: 0.1587\n",
            "Epoch 8: val_loss improved from 2.17538 to 2.15368, saving model to saved_models/audio_classification.hdf5\n",
            "219/219 [==============================] - 1s 5ms/step - loss: 2.2035 - accuracy: 0.1586 - val_loss: 2.1537 - val_accuracy: 0.1757\n",
            "Epoch 9/100\n",
            "210/219 [===========================>..] - ETA: 0s - loss: 2.1838 - accuracy: 0.1676\n",
            "Epoch 9: val_loss improved from 2.15368 to 2.10867, saving model to saved_models/audio_classification.hdf5\n",
            "219/219 [==============================] - 1s 5ms/step - loss: 2.1830 - accuracy: 0.1681 - val_loss: 2.1087 - val_accuracy: 0.1958\n",
            "Epoch 10/100\n",
            "215/219 [============================>.] - ETA: 0s - loss: 2.1582 - accuracy: 0.1826\n",
            "Epoch 10: val_loss improved from 2.10867 to 2.06234, saving model to saved_models/audio_classification.hdf5\n",
            "219/219 [==============================] - 1s 5ms/step - loss: 2.1588 - accuracy: 0.1828 - val_loss: 2.0623 - val_accuracy: 0.2061\n",
            "Epoch 11/100\n",
            "211/219 [===========================>..] - ETA: 0s - loss: 2.1409 - accuracy: 0.1896\n",
            "Epoch 11: val_loss did not improve from 2.06234\n",
            "219/219 [==============================] - 1s 5ms/step - loss: 2.1407 - accuracy: 0.1884 - val_loss: 2.0749 - val_accuracy: 0.2078\n",
            "Epoch 12/100\n",
            "217/219 [============================>.] - ETA: 0s - loss: 2.1093 - accuracy: 0.1879\n",
            "Epoch 12: val_loss improved from 2.06234 to 2.04936, saving model to saved_models/audio_classification.hdf5\n",
            "219/219 [==============================] - 2s 7ms/step - loss: 2.1092 - accuracy: 0.1883 - val_loss: 2.0494 - val_accuracy: 0.2164\n",
            "Epoch 13/100\n",
            "217/219 [============================>.] - ETA: 0s - loss: 2.0843 - accuracy: 0.2062\n",
            "Epoch 13: val_loss improved from 2.04936 to 2.00360, saving model to saved_models/audio_classification.hdf5\n",
            "219/219 [==============================] - 2s 8ms/step - loss: 2.0845 - accuracy: 0.2063 - val_loss: 2.0036 - val_accuracy: 0.2358\n",
            "Epoch 14/100\n",
            "207/219 [===========================>..] - ETA: 0s - loss: 2.0617 - accuracy: 0.2249\n",
            "Epoch 14: val_loss improved from 2.00360 to 1.97682, saving model to saved_models/audio_classification.hdf5\n",
            "219/219 [==============================] - 1s 6ms/step - loss: 2.0571 - accuracy: 0.2246 - val_loss: 1.9768 - val_accuracy: 0.2427\n",
            "Epoch 15/100\n",
            "219/219 [==============================] - ETA: 0s - loss: 2.0141 - accuracy: 0.2468\n",
            "Epoch 15: val_loss improved from 1.97682 to 1.90762, saving model to saved_models/audio_classification.hdf5\n",
            "219/219 [==============================] - 1s 5ms/step - loss: 2.0141 - accuracy: 0.2468 - val_loss: 1.9076 - val_accuracy: 0.3062\n",
            "Epoch 16/100\n",
            "212/219 [============================>.] - ETA: 0s - loss: 1.9716 - accuracy: 0.2618\n",
            "Epoch 16: val_loss improved from 1.90762 to 1.87176, saving model to saved_models/audio_classification.hdf5\n",
            "219/219 [==============================] - 1s 5ms/step - loss: 1.9754 - accuracy: 0.2603 - val_loss: 1.8718 - val_accuracy: 0.3205\n",
            "Epoch 17/100\n",
            "218/219 [============================>.] - ETA: 0s - loss: 1.9329 - accuracy: 0.2751\n",
            "Epoch 17: val_loss improved from 1.87176 to 1.79337, saving model to saved_models/audio_classification.hdf5\n",
            "219/219 [==============================] - 1s 5ms/step - loss: 1.9328 - accuracy: 0.2752 - val_loss: 1.7934 - val_accuracy: 0.3475\n",
            "Epoch 18/100\n",
            "215/219 [============================>.] - ETA: 0s - loss: 1.8760 - accuracy: 0.3028\n",
            "Epoch 18: val_loss improved from 1.79337 to 1.69700, saving model to saved_models/audio_classification.hdf5\n",
            "219/219 [==============================] - 1s 5ms/step - loss: 1.8770 - accuracy: 0.3024 - val_loss: 1.6970 - val_accuracy: 0.4053\n",
            "Epoch 19/100\n",
            "207/219 [===========================>..] - ETA: 0s - loss: 1.8346 - accuracy: 0.3240\n",
            "Epoch 19: val_loss improved from 1.69700 to 1.63101, saving model to saved_models/audio_classification.hdf5\n",
            "219/219 [==============================] - 1s 5ms/step - loss: 1.8353 - accuracy: 0.3227 - val_loss: 1.6310 - val_accuracy: 0.4270\n",
            "Epoch 20/100\n",
            "217/219 [============================>.] - ETA: 0s - loss: 1.8037 - accuracy: 0.3466\n",
            "Epoch 20: val_loss did not improve from 1.63101\n",
            "219/219 [==============================] - 1s 5ms/step - loss: 1.8025 - accuracy: 0.3467 - val_loss: 1.6340 - val_accuracy: 0.4253\n",
            "Epoch 21/100\n",
            "210/219 [===========================>..] - ETA: 0s - loss: 1.7409 - accuracy: 0.3661\n",
            "Epoch 21: val_loss improved from 1.63101 to 1.53729, saving model to saved_models/audio_classification.hdf5\n",
            "219/219 [==============================] - 2s 7ms/step - loss: 1.7390 - accuracy: 0.3674 - val_loss: 1.5373 - val_accuracy: 0.4682\n",
            "Epoch 22/100\n",
            "216/219 [============================>.] - ETA: 0s - loss: 1.7106 - accuracy: 0.3831\n",
            "Epoch 22: val_loss improved from 1.53729 to 1.51164, saving model to saved_models/audio_classification.hdf5\n",
            "219/219 [==============================] - 1s 6ms/step - loss: 1.7120 - accuracy: 0.3825 - val_loss: 1.5116 - val_accuracy: 0.4837\n",
            "Epoch 23/100\n",
            "216/219 [============================>.] - ETA: 0s - loss: 1.6596 - accuracy: 0.4025\n",
            "Epoch 23: val_loss improved from 1.51164 to 1.46849, saving model to saved_models/audio_classification.hdf5\n",
            "219/219 [==============================] - 2s 8ms/step - loss: 1.6618 - accuracy: 0.4014 - val_loss: 1.4685 - val_accuracy: 0.5117\n",
            "Epoch 24/100\n",
            "212/219 [============================>.] - ETA: 0s - loss: 1.6412 - accuracy: 0.4132\n",
            "Epoch 24: val_loss improved from 1.46849 to 1.42554, saving model to saved_models/audio_classification.hdf5\n",
            "219/219 [==============================] - 2s 7ms/step - loss: 1.6390 - accuracy: 0.4147 - val_loss: 1.4255 - val_accuracy: 0.5266\n",
            "Epoch 25/100\n",
            "211/219 [===========================>..] - ETA: 0s - loss: 1.6101 - accuracy: 0.4350\n",
            "Epoch 25: val_loss improved from 1.42554 to 1.41464, saving model to saved_models/audio_classification.hdf5\n",
            "219/219 [==============================] - 1s 5ms/step - loss: 1.6092 - accuracy: 0.4348 - val_loss: 1.4146 - val_accuracy: 0.5507\n",
            "Epoch 26/100\n",
            "212/219 [============================>.] - ETA: 0s - loss: 1.5754 - accuracy: 0.4365\n",
            "Epoch 26: val_loss improved from 1.41464 to 1.36609, saving model to saved_models/audio_classification.hdf5\n",
            "219/219 [==============================] - 1s 5ms/step - loss: 1.5734 - accuracy: 0.4379 - val_loss: 1.3661 - val_accuracy: 0.5598\n",
            "Epoch 27/100\n",
            "217/219 [============================>.] - ETA: 0s - loss: 1.5392 - accuracy: 0.4567\n",
            "Epoch 27: val_loss improved from 1.36609 to 1.31979, saving model to saved_models/audio_classification.hdf5\n",
            "219/219 [==============================] - 1s 5ms/step - loss: 1.5388 - accuracy: 0.4568 - val_loss: 1.3198 - val_accuracy: 0.5793\n",
            "Epoch 28/100\n",
            "212/219 [============================>.] - ETA: 0s - loss: 1.4958 - accuracy: 0.4792\n",
            "Epoch 28: val_loss improved from 1.31979 to 1.29334, saving model to saved_models/audio_classification.hdf5\n",
            "219/219 [==============================] - 1s 5ms/step - loss: 1.4947 - accuracy: 0.4793 - val_loss: 1.2933 - val_accuracy: 0.5884\n",
            "Epoch 29/100\n",
            "210/219 [===========================>..] - ETA: 0s - loss: 1.4768 - accuracy: 0.4775\n",
            "Epoch 29: val_loss improved from 1.29334 to 1.29216, saving model to saved_models/audio_classification.hdf5\n",
            "219/219 [==============================] - 1s 5ms/step - loss: 1.4752 - accuracy: 0.4796 - val_loss: 1.2922 - val_accuracy: 0.5833\n",
            "Epoch 30/100\n",
            "214/219 [============================>.] - ETA: 0s - loss: 1.4452 - accuracy: 0.4939\n",
            "Epoch 30: val_loss improved from 1.29216 to 1.25293, saving model to saved_models/audio_classification.hdf5\n",
            "219/219 [==============================] - 1s 5ms/step - loss: 1.4437 - accuracy: 0.4939 - val_loss: 1.2529 - val_accuracy: 0.5919\n",
            "Epoch 31/100\n",
            "214/219 [============================>.] - ETA: 0s - loss: 1.4295 - accuracy: 0.5080\n",
            "Epoch 31: val_loss improved from 1.25293 to 1.23313, saving model to saved_models/audio_classification.hdf5\n",
            "219/219 [==============================] - 1s 5ms/step - loss: 1.4271 - accuracy: 0.5085 - val_loss: 1.2331 - val_accuracy: 0.6159\n",
            "Epoch 32/100\n",
            "217/219 [============================>.] - ETA: 0s - loss: 1.3970 - accuracy: 0.5180\n",
            "Epoch 32: val_loss improved from 1.23313 to 1.20186, saving model to saved_models/audio_classification.hdf5\n",
            "219/219 [==============================] - 1s 5ms/step - loss: 1.3962 - accuracy: 0.5180 - val_loss: 1.2019 - val_accuracy: 0.6022\n",
            "Epoch 33/100\n",
            "211/219 [===========================>..] - ETA: 0s - loss: 1.3766 - accuracy: 0.5218\n",
            "Epoch 33: val_loss improved from 1.20186 to 1.20030, saving model to saved_models/audio_classification.hdf5\n",
            "219/219 [==============================] - 1s 7ms/step - loss: 1.3798 - accuracy: 0.5207 - val_loss: 1.2003 - val_accuracy: 0.6062\n",
            "Epoch 34/100\n",
            "213/219 [============================>.] - ETA: 0s - loss: 1.3547 - accuracy: 0.5292\n",
            "Epoch 34: val_loss improved from 1.20030 to 1.18155, saving model to saved_models/audio_classification.hdf5\n",
            "219/219 [==============================] - 2s 8ms/step - loss: 1.3557 - accuracy: 0.5290 - val_loss: 1.1815 - val_accuracy: 0.6125\n",
            "Epoch 35/100\n",
            "214/219 [============================>.] - ETA: 0s - loss: 1.3471 - accuracy: 0.5400\n",
            "Epoch 35: val_loss improved from 1.18155 to 1.15094, saving model to saved_models/audio_classification.hdf5\n",
            "219/219 [==============================] - 1s 6ms/step - loss: 1.3463 - accuracy: 0.5409 - val_loss: 1.1509 - val_accuracy: 0.6079\n",
            "Epoch 36/100\n",
            "215/219 [============================>.] - ETA: 0s - loss: 1.3169 - accuracy: 0.5461\n",
            "Epoch 36: val_loss improved from 1.15094 to 1.14567, saving model to saved_models/audio_classification.hdf5\n",
            "219/219 [==============================] - 1s 5ms/step - loss: 1.3162 - accuracy: 0.5465 - val_loss: 1.1457 - val_accuracy: 0.6199\n",
            "Epoch 37/100\n",
            "215/219 [============================>.] - ETA: 0s - loss: 1.2790 - accuracy: 0.5560\n",
            "Epoch 37: val_loss improved from 1.14567 to 1.13092, saving model to saved_models/audio_classification.hdf5\n",
            "219/219 [==============================] - 1s 5ms/step - loss: 1.2786 - accuracy: 0.5563 - val_loss: 1.1309 - val_accuracy: 0.6216\n",
            "Epoch 38/100\n",
            "208/219 [===========================>..] - ETA: 0s - loss: 1.2957 - accuracy: 0.5509\n",
            "Epoch 38: val_loss improved from 1.13092 to 1.09439, saving model to saved_models/audio_classification.hdf5\n",
            "219/219 [==============================] - 1s 5ms/step - loss: 1.2984 - accuracy: 0.5493 - val_loss: 1.0944 - val_accuracy: 0.6371\n",
            "Epoch 39/100\n",
            "210/219 [===========================>..] - ETA: 0s - loss: 1.2662 - accuracy: 0.5601\n",
            "Epoch 39: val_loss did not improve from 1.09439\n",
            "219/219 [==============================] - 1s 5ms/step - loss: 1.2654 - accuracy: 0.5608 - val_loss: 1.0986 - val_accuracy: 0.6251\n",
            "Epoch 40/100\n",
            "209/219 [===========================>..] - ETA: 0s - loss: 1.2405 - accuracy: 0.5724\n",
            "Epoch 40: val_loss improved from 1.09439 to 1.07947, saving model to saved_models/audio_classification.hdf5\n",
            "219/219 [==============================] - 1s 5ms/step - loss: 1.2437 - accuracy: 0.5729 - val_loss: 1.0795 - val_accuracy: 0.6382\n",
            "Epoch 41/100\n",
            "219/219 [==============================] - ETA: 0s - loss: 1.2516 - accuracy: 0.5745\n",
            "Epoch 41: val_loss improved from 1.07947 to 1.05566, saving model to saved_models/audio_classification.hdf5\n",
            "219/219 [==============================] - 1s 5ms/step - loss: 1.2516 - accuracy: 0.5745 - val_loss: 1.0557 - val_accuracy: 0.6543\n",
            "Epoch 42/100\n",
            "218/219 [============================>.] - ETA: 0s - loss: 1.2509 - accuracy: 0.5724\n",
            "Epoch 42: val_loss improved from 1.05566 to 1.04928, saving model to saved_models/audio_classification.hdf5\n",
            "219/219 [==============================] - 1s 5ms/step - loss: 1.2505 - accuracy: 0.5725 - val_loss: 1.0493 - val_accuracy: 0.6548\n",
            "Epoch 43/100\n",
            "211/219 [===========================>..] - ETA: 0s - loss: 1.2441 - accuracy: 0.5789\n",
            "Epoch 43: val_loss improved from 1.04928 to 1.02993, saving model to saved_models/audio_classification.hdf5\n",
            "219/219 [==============================] - 1s 5ms/step - loss: 1.2470 - accuracy: 0.5780 - val_loss: 1.0299 - val_accuracy: 0.6508\n",
            "Epoch 44/100\n",
            "214/219 [============================>.] - ETA: 0s - loss: 1.2254 - accuracy: 0.5812\n",
            "Epoch 44: val_loss did not improve from 1.02993\n",
            "219/219 [==============================] - 2s 7ms/step - loss: 1.2225 - accuracy: 0.5825 - val_loss: 1.0348 - val_accuracy: 0.6617\n",
            "Epoch 45/100\n",
            "217/219 [============================>.] - ETA: 0s - loss: 1.2116 - accuracy: 0.5844\n",
            "Epoch 45: val_loss improved from 1.02993 to 1.01705, saving model to saved_models/audio_classification.hdf5\n",
            "219/219 [==============================] - 2s 8ms/step - loss: 1.2129 - accuracy: 0.5841 - val_loss: 1.0170 - val_accuracy: 0.6577\n",
            "Epoch 46/100\n",
            "214/219 [============================>.] - ETA: 0s - loss: 1.1903 - accuracy: 0.5818\n",
            "Epoch 46: val_loss improved from 1.01705 to 0.99233, saving model to saved_models/audio_classification.hdf5\n",
            "219/219 [==============================] - 1s 6ms/step - loss: 1.1906 - accuracy: 0.5824 - val_loss: 0.9923 - val_accuracy: 0.6737\n",
            "Epoch 47/100\n",
            "210/219 [===========================>..] - ETA: 0s - loss: 1.1951 - accuracy: 0.5891\n",
            "Epoch 47: val_loss improved from 0.99233 to 0.96594, saving model to saved_models/audio_classification.hdf5\n",
            "219/219 [==============================] - 1s 5ms/step - loss: 1.1898 - accuracy: 0.5907 - val_loss: 0.9659 - val_accuracy: 0.6772\n",
            "Epoch 48/100\n",
            "211/219 [===========================>..] - ETA: 0s - loss: 1.1552 - accuracy: 0.6020\n",
            "Epoch 48: val_loss did not improve from 0.96594\n",
            "219/219 [==============================] - 1s 5ms/step - loss: 1.1556 - accuracy: 0.6016 - val_loss: 0.9674 - val_accuracy: 0.6812\n",
            "Epoch 49/100\n",
            "214/219 [============================>.] - ETA: 0s - loss: 1.1731 - accuracy: 0.5955\n",
            "Epoch 49: val_loss did not improve from 0.96594\n",
            "219/219 [==============================] - 1s 5ms/step - loss: 1.1768 - accuracy: 0.5941 - val_loss: 0.9724 - val_accuracy: 0.6754\n",
            "Epoch 50/100\n",
            "215/219 [============================>.] - ETA: 0s - loss: 1.1628 - accuracy: 0.5952\n",
            "Epoch 50: val_loss improved from 0.96594 to 0.95687, saving model to saved_models/audio_classification.hdf5\n",
            "219/219 [==============================] - 1s 5ms/step - loss: 1.1635 - accuracy: 0.5947 - val_loss: 0.9569 - val_accuracy: 0.7023\n",
            "Epoch 51/100\n",
            "209/219 [===========================>..] - ETA: 0s - loss: 1.1591 - accuracy: 0.6021\n",
            "Epoch 51: val_loss did not improve from 0.95687\n",
            "219/219 [==============================] - 1s 5ms/step - loss: 1.1584 - accuracy: 0.6027 - val_loss: 0.9605 - val_accuracy: 0.6857\n",
            "Epoch 52/100\n",
            "219/219 [==============================] - ETA: 0s - loss: 1.1664 - accuracy: 0.6052\n",
            "Epoch 52: val_loss improved from 0.95687 to 0.95038, saving model to saved_models/audio_classification.hdf5\n",
            "219/219 [==============================] - 1s 5ms/step - loss: 1.1664 - accuracy: 0.6052 - val_loss: 0.9504 - val_accuracy: 0.6949\n",
            "Epoch 53/100\n",
            "207/219 [===========================>..] - ETA: 0s - loss: 1.1222 - accuracy: 0.6134\n",
            "Epoch 53: val_loss improved from 0.95038 to 0.92828, saving model to saved_models/audio_classification.hdf5\n",
            "219/219 [==============================] - 1s 5ms/step - loss: 1.1227 - accuracy: 0.6139 - val_loss: 0.9283 - val_accuracy: 0.6995\n",
            "Epoch 54/100\n",
            "216/219 [============================>.] - ETA: 0s - loss: 1.1294 - accuracy: 0.6141\n",
            "Epoch 54: val_loss did not improve from 0.92828\n",
            "219/219 [==============================] - 1s 5ms/step - loss: 1.1320 - accuracy: 0.6136 - val_loss: 0.9335 - val_accuracy: 0.6915\n",
            "Epoch 55/100\n",
            "215/219 [============================>.] - ETA: 0s - loss: 1.1418 - accuracy: 0.6137\n",
            "Epoch 55: val_loss did not improve from 0.92828\n",
            "219/219 [==============================] - 1s 6ms/step - loss: 1.1411 - accuracy: 0.6137 - val_loss: 0.9365 - val_accuracy: 0.6852\n",
            "Epoch 56/100\n",
            "217/219 [============================>.] - ETA: 0s - loss: 1.1398 - accuracy: 0.6116\n",
            "Epoch 56: val_loss did not improve from 0.92828\n",
            "219/219 [==============================] - 1s 6ms/step - loss: 1.1394 - accuracy: 0.6119 - val_loss: 0.9422 - val_accuracy: 0.6983\n",
            "Epoch 57/100\n",
            "219/219 [==============================] - ETA: 0s - loss: 1.1243 - accuracy: 0.6169\n",
            "Epoch 57: val_loss did not improve from 0.92828\n",
            "219/219 [==============================] - 2s 7ms/step - loss: 1.1243 - accuracy: 0.6169 - val_loss: 0.9456 - val_accuracy: 0.6892\n",
            "Epoch 58/100\n",
            "210/219 [===========================>..] - ETA: 0s - loss: 1.1127 - accuracy: 0.6187\n",
            "Epoch 58: val_loss improved from 0.92828 to 0.91467, saving model to saved_models/audio_classification.hdf5\n",
            "219/219 [==============================] - 1s 5ms/step - loss: 1.1127 - accuracy: 0.6195 - val_loss: 0.9147 - val_accuracy: 0.6989\n",
            "Epoch 59/100\n",
            "215/219 [============================>.] - ETA: 0s - loss: 1.1139 - accuracy: 0.6205\n",
            "Epoch 59: val_loss did not improve from 0.91467\n",
            "219/219 [==============================] - 1s 5ms/step - loss: 1.1120 - accuracy: 0.6206 - val_loss: 0.9331 - val_accuracy: 0.6903\n",
            "Epoch 60/100\n",
            "217/219 [============================>.] - ETA: 0s - loss: 1.0843 - accuracy: 0.6264\n",
            "Epoch 60: val_loss improved from 0.91467 to 0.88457, saving model to saved_models/audio_classification.hdf5\n",
            "219/219 [==============================] - 1s 5ms/step - loss: 1.0839 - accuracy: 0.6265 - val_loss: 0.8846 - val_accuracy: 0.7195\n",
            "Epoch 61/100\n",
            "209/219 [===========================>..] - ETA: 0s - loss: 1.0950 - accuracy: 0.6331\n",
            "Epoch 61: val_loss did not improve from 0.88457\n",
            "219/219 [==============================] - 1s 5ms/step - loss: 1.0943 - accuracy: 0.6315 - val_loss: 0.8987 - val_accuracy: 0.7155\n",
            "Epoch 62/100\n",
            "212/219 [============================>.] - ETA: 0s - loss: 1.0864 - accuracy: 0.6325\n",
            "Epoch 62: val_loss did not improve from 0.88457\n",
            "219/219 [==============================] - 1s 5ms/step - loss: 1.0866 - accuracy: 0.6321 - val_loss: 0.8853 - val_accuracy: 0.7081\n",
            "Epoch 63/100\n",
            "213/219 [============================>.] - ETA: 0s - loss: 1.0984 - accuracy: 0.6325\n",
            "Epoch 63: val_loss did not improve from 0.88457\n",
            "219/219 [==============================] - 1s 5ms/step - loss: 1.1001 - accuracy: 0.6319 - val_loss: 0.9104 - val_accuracy: 0.7086\n",
            "Epoch 64/100\n",
            "208/219 [===========================>..] - ETA: 0s - loss: 1.1013 - accuracy: 0.6233\n",
            "Epoch 64: val_loss did not improve from 0.88457\n",
            "219/219 [==============================] - 1s 5ms/step - loss: 1.1070 - accuracy: 0.6218 - val_loss: 0.9122 - val_accuracy: 0.7012\n",
            "Epoch 65/100\n",
            "218/219 [============================>.] - ETA: 0s - loss: 1.0797 - accuracy: 0.6329\n",
            "Epoch 65: val_loss did not improve from 0.88457\n",
            "219/219 [==============================] - 1s 5ms/step - loss: 1.0804 - accuracy: 0.6326 - val_loss: 0.8910 - val_accuracy: 0.7092\n",
            "Epoch 66/100\n",
            "210/219 [===========================>..] - ETA: 0s - loss: 1.0821 - accuracy: 0.6369\n",
            "Epoch 66: val_loss did not improve from 0.88457\n",
            "219/219 [==============================] - 1s 5ms/step - loss: 1.0822 - accuracy: 0.6364 - val_loss: 0.9024 - val_accuracy: 0.7064\n",
            "Epoch 67/100\n",
            "219/219 [==============================] - ETA: 0s - loss: 1.0589 - accuracy: 0.6397\n",
            "Epoch 67: val_loss improved from 0.88457 to 0.86944, saving model to saved_models/audio_classification.hdf5\n",
            "219/219 [==============================] - 1s 7ms/step - loss: 1.0589 - accuracy: 0.6397 - val_loss: 0.8694 - val_accuracy: 0.7149\n",
            "Epoch 68/100\n",
            "215/219 [============================>.] - ETA: 0s - loss: 1.0654 - accuracy: 0.6394\n",
            "Epoch 68: val_loss improved from 0.86944 to 0.85942, saving model to saved_models/audio_classification.hdf5\n",
            "219/219 [==============================] - 2s 8ms/step - loss: 1.0636 - accuracy: 0.6391 - val_loss: 0.8594 - val_accuracy: 0.7270\n",
            "Epoch 69/100\n",
            "219/219 [==============================] - ETA: 0s - loss: 1.0646 - accuracy: 0.6391\n",
            "Epoch 69: val_loss improved from 0.85942 to 0.85404, saving model to saved_models/audio_classification.hdf5\n",
            "219/219 [==============================] - 1s 6ms/step - loss: 1.0646 - accuracy: 0.6391 - val_loss: 0.8540 - val_accuracy: 0.7298\n",
            "Epoch 70/100\n",
            "209/219 [===========================>..] - ETA: 0s - loss: 1.0653 - accuracy: 0.6406\n",
            "Epoch 70: val_loss did not improve from 0.85404\n",
            "219/219 [==============================] - 1s 5ms/step - loss: 1.0673 - accuracy: 0.6425 - val_loss: 0.8640 - val_accuracy: 0.7207\n",
            "Epoch 71/100\n",
            "210/219 [===========================>..] - ETA: 0s - loss: 1.0938 - accuracy: 0.6320\n",
            "Epoch 71: val_loss did not improve from 0.85404\n",
            "219/219 [==============================] - 1s 5ms/step - loss: 1.0917 - accuracy: 0.6325 - val_loss: 0.8698 - val_accuracy: 0.7144\n",
            "Epoch 72/100\n",
            "215/219 [============================>.] - ETA: 0s - loss: 1.0537 - accuracy: 0.6432\n",
            "Epoch 72: val_loss did not improve from 0.85404\n",
            "219/219 [==============================] - 1s 5ms/step - loss: 1.0563 - accuracy: 0.6427 - val_loss: 0.8542 - val_accuracy: 0.7350\n",
            "Epoch 73/100\n",
            "211/219 [===========================>..] - ETA: 0s - loss: 1.0503 - accuracy: 0.6401\n",
            "Epoch 73: val_loss improved from 0.85404 to 0.83853, saving model to saved_models/audio_classification.hdf5\n",
            "219/219 [==============================] - 1s 5ms/step - loss: 1.0516 - accuracy: 0.6399 - val_loss: 0.8385 - val_accuracy: 0.7172\n",
            "Epoch 74/100\n",
            "210/219 [===========================>..] - ETA: 0s - loss: 1.0318 - accuracy: 0.6455\n",
            "Epoch 74: val_loss did not improve from 0.83853\n",
            "219/219 [==============================] - 1s 5ms/step - loss: 1.0360 - accuracy: 0.6447 - val_loss: 0.8680 - val_accuracy: 0.7212\n",
            "Epoch 75/100\n",
            "214/219 [============================>.] - ETA: 0s - loss: 1.0442 - accuracy: 0.6513\n",
            "Epoch 75: val_loss improved from 0.83853 to 0.83515, saving model to saved_models/audio_classification.hdf5\n",
            "219/219 [==============================] - 1s 5ms/step - loss: 1.0422 - accuracy: 0.6527 - val_loss: 0.8352 - val_accuracy: 0.7378\n",
            "Epoch 76/100\n",
            "210/219 [===========================>..] - ETA: 0s - loss: 1.0341 - accuracy: 0.6549\n",
            "Epoch 76: val_loss did not improve from 0.83515\n",
            "219/219 [==============================] - 1s 5ms/step - loss: 1.0401 - accuracy: 0.6527 - val_loss: 0.8521 - val_accuracy: 0.7264\n",
            "Epoch 77/100\n",
            "210/219 [===========================>..] - ETA: 0s - loss: 1.0487 - accuracy: 0.6528\n",
            "Epoch 77: val_loss did not improve from 0.83515\n",
            "219/219 [==============================] - 1s 5ms/step - loss: 1.0485 - accuracy: 0.6521 - val_loss: 0.8407 - val_accuracy: 0.7350\n",
            "Epoch 78/100\n",
            "216/219 [============================>.] - ETA: 0s - loss: 1.0403 - accuracy: 0.6497\n",
            "Epoch 78: val_loss improved from 0.83515 to 0.82618, saving model to saved_models/audio_classification.hdf5\n",
            "219/219 [==============================] - 1s 6ms/step - loss: 1.0398 - accuracy: 0.6503 - val_loss: 0.8262 - val_accuracy: 0.7401\n",
            "Epoch 79/100\n",
            "217/219 [============================>.] - ETA: 0s - loss: 1.0407 - accuracy: 0.6450\n",
            "Epoch 79: val_loss did not improve from 0.82618\n",
            "219/219 [==============================] - 2s 7ms/step - loss: 1.0401 - accuracy: 0.6450 - val_loss: 0.8561 - val_accuracy: 0.7230\n",
            "Epoch 80/100\n",
            "210/219 [===========================>..] - ETA: 0s - loss: 1.0282 - accuracy: 0.6533\n",
            "Epoch 80: val_loss did not improve from 0.82618\n",
            "219/219 [==============================] - 2s 7ms/step - loss: 1.0269 - accuracy: 0.6531 - val_loss: 0.8484 - val_accuracy: 0.7247\n",
            "Epoch 81/100\n",
            "208/219 [===========================>..] - ETA: 0s - loss: 1.0107 - accuracy: 0.6570\n",
            "Epoch 81: val_loss did not improve from 0.82618\n",
            "219/219 [==============================] - 2s 7ms/step - loss: 1.0155 - accuracy: 0.6548 - val_loss: 0.8306 - val_accuracy: 0.7304\n",
            "Epoch 82/100\n",
            "218/219 [============================>.] - ETA: 0s - loss: 1.0095 - accuracy: 0.6617\n",
            "Epoch 82: val_loss did not improve from 0.82618\n",
            "219/219 [==============================] - 1s 5ms/step - loss: 1.0093 - accuracy: 0.6618 - val_loss: 0.8275 - val_accuracy: 0.7310\n",
            "Epoch 83/100\n",
            "219/219 [==============================] - ETA: 0s - loss: 1.0331 - accuracy: 0.6603\n",
            "Epoch 83: val_loss did not improve from 0.82618\n",
            "219/219 [==============================] - 1s 5ms/step - loss: 1.0331 - accuracy: 0.6603 - val_loss: 0.8285 - val_accuracy: 0.7315\n",
            "Epoch 84/100\n",
            "209/219 [===========================>..] - ETA: 0s - loss: 1.0149 - accuracy: 0.6549\n",
            "Epoch 84: val_loss improved from 0.82618 to 0.82058, saving model to saved_models/audio_classification.hdf5\n",
            "219/219 [==============================] - 1s 5ms/step - loss: 1.0146 - accuracy: 0.6550 - val_loss: 0.8206 - val_accuracy: 0.7396\n",
            "Epoch 85/100\n",
            "213/219 [============================>.] - ETA: 0s - loss: 0.9934 - accuracy: 0.6677\n",
            "Epoch 85: val_loss improved from 0.82058 to 0.80178, saving model to saved_models/audio_classification.hdf5\n",
            "219/219 [==============================] - 1s 5ms/step - loss: 0.9961 - accuracy: 0.6663 - val_loss: 0.8018 - val_accuracy: 0.7264\n",
            "Epoch 86/100\n",
            "212/219 [============================>.] - ETA: 0s - loss: 0.9930 - accuracy: 0.6638\n",
            "Epoch 86: val_loss did not improve from 0.80178\n",
            "219/219 [==============================] - 1s 5ms/step - loss: 0.9959 - accuracy: 0.6628 - val_loss: 0.8264 - val_accuracy: 0.7207\n",
            "Epoch 87/100\n",
            "217/219 [============================>.] - ETA: 0s - loss: 1.0099 - accuracy: 0.6524\n",
            "Epoch 87: val_loss did not improve from 0.80178\n",
            "219/219 [==============================] - 1s 5ms/step - loss: 1.0090 - accuracy: 0.6525 - val_loss: 0.8275 - val_accuracy: 0.7298\n",
            "Epoch 88/100\n",
            "217/219 [============================>.] - ETA: 0s - loss: 0.9928 - accuracy: 0.6613\n",
            "Epoch 88: val_loss did not improve from 0.80178\n",
            "219/219 [==============================] - 1s 5ms/step - loss: 0.9923 - accuracy: 0.6618 - val_loss: 0.8335 - val_accuracy: 0.7235\n",
            "Epoch 89/100\n",
            "215/219 [============================>.] - ETA: 0s - loss: 1.0180 - accuracy: 0.6609\n",
            "Epoch 89: val_loss did not improve from 0.80178\n",
            "219/219 [==============================] - 1s 6ms/step - loss: 1.0173 - accuracy: 0.6604 - val_loss: 0.8458 - val_accuracy: 0.7189\n",
            "Epoch 90/100\n",
            "219/219 [==============================] - ETA: 0s - loss: 0.9978 - accuracy: 0.6583\n",
            "Epoch 90: val_loss did not improve from 0.80178\n",
            "219/219 [==============================] - 2s 8ms/step - loss: 0.9978 - accuracy: 0.6583 - val_loss: 0.8151 - val_accuracy: 0.7390\n",
            "Epoch 91/100\n",
            "217/219 [============================>.] - ETA: 0s - loss: 0.9989 - accuracy: 0.6649\n",
            "Epoch 91: val_loss did not improve from 0.80178\n",
            "219/219 [==============================] - 2s 7ms/step - loss: 0.9986 - accuracy: 0.6651 - val_loss: 0.8126 - val_accuracy: 0.7367\n",
            "Epoch 92/100\n",
            "216/219 [============================>.] - ETA: 0s - loss: 1.0041 - accuracy: 0.6639\n",
            "Epoch 92: val_loss improved from 0.80178 to 0.79138, saving model to saved_models/audio_classification.hdf5\n",
            "219/219 [==============================] - 1s 5ms/step - loss: 1.0063 - accuracy: 0.6630 - val_loss: 0.7914 - val_accuracy: 0.7539\n",
            "Epoch 93/100\n",
            "218/219 [============================>.] - ETA: 0s - loss: 0.9988 - accuracy: 0.6637\n",
            "Epoch 93: val_loss improved from 0.79138 to 0.79088, saving model to saved_models/audio_classification.hdf5\n",
            "219/219 [==============================] - 1s 6ms/step - loss: 0.9993 - accuracy: 0.6631 - val_loss: 0.7909 - val_accuracy: 0.7453\n",
            "Epoch 94/100\n",
            "212/219 [============================>.] - ETA: 0s - loss: 0.9835 - accuracy: 0.6739\n",
            "Epoch 94: val_loss did not improve from 0.79088\n",
            "219/219 [==============================] - 1s 5ms/step - loss: 0.9823 - accuracy: 0.6746 - val_loss: 0.7946 - val_accuracy: 0.7430\n",
            "Epoch 95/100\n",
            "219/219 [==============================] - ETA: 0s - loss: 0.9791 - accuracy: 0.6730\n",
            "Epoch 95: val_loss did not improve from 0.79088\n",
            "219/219 [==============================] - 1s 5ms/step - loss: 0.9791 - accuracy: 0.6730 - val_loss: 0.8046 - val_accuracy: 0.7378\n",
            "Epoch 96/100\n",
            "216/219 [============================>.] - ETA: 0s - loss: 1.0094 - accuracy: 0.6521\n",
            "Epoch 96: val_loss improved from 0.79088 to 0.78411, saving model to saved_models/audio_classification.hdf5\n",
            "219/219 [==============================] - 1s 5ms/step - loss: 1.0072 - accuracy: 0.6527 - val_loss: 0.7841 - val_accuracy: 0.7413\n",
            "Epoch 97/100\n",
            "212/219 [============================>.] - ETA: 0s - loss: 0.9966 - accuracy: 0.6658\n",
            "Epoch 97: val_loss did not improve from 0.78411\n",
            "219/219 [==============================] - 1s 5ms/step - loss: 0.9955 - accuracy: 0.6659 - val_loss: 0.8060 - val_accuracy: 0.7447\n",
            "Epoch 98/100\n",
            "217/219 [============================>.] - ETA: 0s - loss: 0.9838 - accuracy: 0.6686\n",
            "Epoch 98: val_loss did not improve from 0.78411\n",
            "219/219 [==============================] - 1s 5ms/step - loss: 0.9842 - accuracy: 0.6681 - val_loss: 0.8013 - val_accuracy: 0.7493\n",
            "Epoch 99/100\n",
            "216/219 [============================>.] - ETA: 0s - loss: 0.9771 - accuracy: 0.6690\n",
            "Epoch 99: val_loss improved from 0.78411 to 0.78009, saving model to saved_models/audio_classification.hdf5\n",
            "219/219 [==============================] - 1s 5ms/step - loss: 0.9769 - accuracy: 0.6694 - val_loss: 0.7801 - val_accuracy: 0.7476\n",
            "Epoch 100/100\n",
            "216/219 [============================>.] - ETA: 0s - loss: 0.9839 - accuracy: 0.6752\n",
            "Epoch 100: val_loss improved from 0.78009 to 0.77940, saving model to saved_models/audio_classification.hdf5\n",
            "219/219 [==============================] - 2s 7ms/step - loss: 0.9810 - accuracy: 0.6760 - val_loss: 0.7794 - val_accuracy: 0.7510\n",
            "Training completed in time:  0:02:24.051319\n"
          ]
        }
      ]
    },
    {
      "cell_type": "code",
      "source": [
        "test_accuracy=model.evaluate(X_test,y_test,verbose=0)\n",
        "print(test_accuracy[1])"
      ],
      "metadata": {
        "colab": {
          "base_uri": "https://localhost:8080/"
        },
        "id": "_pCxWliR49Rt",
        "outputId": "0d5844e4-78c0-42f1-d13e-79aae74dc468"
      },
      "execution_count": 41,
      "outputs": [
        {
          "output_type": "stream",
          "name": "stdout",
          "text": [
            "0.7510017156600952\n"
          ]
        }
      ]
    },
    {
      "cell_type": "code",
      "source": [
        "fn='/root/sound_datasets/urbansound8k/audio/fold1/101415-3-0-2.wav'\n",
        "pred_feature=features_extractor(fn)\n",
        "prediction = model.predict(pred_feature.reshape(1,-1)) # Use model.predict\n",
        "predicted_class = np.argmax(prediction) # Get index of highest probability which is the predicted class\n",
        "print(predicted_class)"
      ],
      "metadata": {
        "colab": {
          "base_uri": "https://localhost:8080/"
        },
        "id": "XpohN0DT7HHF",
        "outputId": "5a9e1d67-c69b-425c-b295-2f820822646d"
      },
      "execution_count": 45,
      "outputs": [
        {
          "output_type": "stream",
          "name": "stdout",
          "text": [
            "1/1 [==============================] - 0s 32ms/step\n",
            "3\n"
          ]
        }
      ]
    },
    {
      "cell_type": "code",
      "source": [
        "class1=labelencoder.inverse_transform([predicted_class])\n",
        "class1"
      ],
      "metadata": {
        "colab": {
          "base_uri": "https://localhost:8080/"
        },
        "id": "g-l6NZOr7qdP",
        "outputId": "de776c5e-88f6-46ef-dcb2-699dc7097f17"
      },
      "execution_count": 48,
      "outputs": [
        {
          "output_type": "execute_result",
          "data": {
            "text/plain": [
              "array(['dog_bark'], dtype='<U16')"
            ]
          },
          "metadata": {},
          "execution_count": 48
        }
      ]
    },
    {
      "cell_type": "code",
      "source": [],
      "metadata": {
        "id": "EOJFHCJv8194"
      },
      "execution_count": null,
      "outputs": []
    }
  ]
}